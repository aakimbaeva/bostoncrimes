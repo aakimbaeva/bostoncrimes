{
  "nbformat": 4,
  "nbformat_minor": 0,
  "metadata": {
    "colab": {
      "name": "DE project.ipynb",
      "provenance": [],
      "collapsed_sections": [],
      "toc_visible": true
    },
    "kernelspec": {
      "name": "python3",
      "display_name": "Python 3"
    },
    "language_info": {
      "name": "python"
    }
  },
  "cells": [
    {
      "cell_type": "markdown",
      "metadata": {
        "id": "3N5pQEgqQYD5"
      },
      "source": [
        "### **Data Engineering Project**\n",
        "\n",
        "Crimes in Boston dataset\n"
      ]
    },
    {
      "cell_type": "markdown",
      "metadata": {
        "id": "OhDOV2j4S0Nj"
      },
      "source": [
        "# **1. PREPROCESSING**"
      ]
    },
    {
      "cell_type": "markdown",
      "metadata": {
        "id": "ASKSK18lQu8o"
      },
      "source": [
        "1. Load dataset using pandas \n"
      ]
    },
    {
      "cell_type": "code",
      "metadata": {
        "id": "9H3qsS94Q1XU"
      },
      "source": [
        "# import Pandas package\n",
        "import pandas as pd\n",
        "# drag the excel file to 'content' (left)\n",
        "# load Crime dataset as a csv file\n",
        "crimes = pd.read_csv('crime.csv', engine='python' )  # result: 319073 rows × 17 columns\n",
        "\n",
        "# in json: pd.read_json()"
      ],
      "execution_count": null,
      "outputs": []
    },
    {
      "cell_type": "code",
      "metadata": {
        "id": "WK2n5FWvU00-",
        "colab": {
          "base_uri": "https://localhost:8080/",
          "height": 643
        },
        "outputId": "8e5d4102-eb58-4ca9-8dde-8f634f862566"
      },
      "source": [
        "# to view the dataset\n",
        "display(crimes)"
      ],
      "execution_count": null,
      "outputs": [
        {
          "output_type": "display_data",
          "data": {
            "text/html": [
              "<div>\n",
              "<style scoped>\n",
              "    .dataframe tbody tr th:only-of-type {\n",
              "        vertical-align: middle;\n",
              "    }\n",
              "\n",
              "    .dataframe tbody tr th {\n",
              "        vertical-align: top;\n",
              "    }\n",
              "\n",
              "    .dataframe thead th {\n",
              "        text-align: right;\n",
              "    }\n",
              "</style>\n",
              "<table border=\"1\" class=\"dataframe\">\n",
              "  <thead>\n",
              "    <tr style=\"text-align: right;\">\n",
              "      <th></th>\n",
              "      <th>INCIDENT_NUMBER</th>\n",
              "      <th>OFFENSE_CODE</th>\n",
              "      <th>OFFENSE_CODE_GROUP</th>\n",
              "      <th>OFFENSE_DESCRIPTION</th>\n",
              "      <th>DISTRICT</th>\n",
              "      <th>REPORTING_AREA</th>\n",
              "      <th>SHOOTING</th>\n",
              "      <th>OCCURRED_ON_DATE</th>\n",
              "      <th>YEAR</th>\n",
              "      <th>MONTH</th>\n",
              "      <th>DAY_OF_WEEK</th>\n",
              "      <th>HOUR</th>\n",
              "      <th>UCR_PART</th>\n",
              "      <th>STREET</th>\n",
              "      <th>Lat</th>\n",
              "      <th>Long</th>\n",
              "      <th>Location</th>\n",
              "    </tr>\n",
              "  </thead>\n",
              "  <tbody>\n",
              "    <tr>\n",
              "      <th>0</th>\n",
              "      <td>I182070945</td>\n",
              "      <td>619</td>\n",
              "      <td>Larceny</td>\n",
              "      <td>LARCENY ALL OTHERS</td>\n",
              "      <td>D14</td>\n",
              "      <td>808</td>\n",
              "      <td>NaN</td>\n",
              "      <td>2018-09-02 13:00:00</td>\n",
              "      <td>2018</td>\n",
              "      <td>9</td>\n",
              "      <td>Sunday</td>\n",
              "      <td>13</td>\n",
              "      <td>Part One</td>\n",
              "      <td>LINCOLN ST</td>\n",
              "      <td>42.357791</td>\n",
              "      <td>-71.139371</td>\n",
              "      <td>(42.35779134, -71.13937053)</td>\n",
              "    </tr>\n",
              "    <tr>\n",
              "      <th>1</th>\n",
              "      <td>I182070943</td>\n",
              "      <td>1402</td>\n",
              "      <td>Vandalism</td>\n",
              "      <td>VANDALISM</td>\n",
              "      <td>C11</td>\n",
              "      <td>347</td>\n",
              "      <td>NaN</td>\n",
              "      <td>2018-08-21 00:00:00</td>\n",
              "      <td>2018</td>\n",
              "      <td>8</td>\n",
              "      <td>Tuesday</td>\n",
              "      <td>0</td>\n",
              "      <td>Part Two</td>\n",
              "      <td>HECLA ST</td>\n",
              "      <td>42.306821</td>\n",
              "      <td>-71.060300</td>\n",
              "      <td>(42.30682138, -71.06030035)</td>\n",
              "    </tr>\n",
              "    <tr>\n",
              "      <th>2</th>\n",
              "      <td>I182070941</td>\n",
              "      <td>3410</td>\n",
              "      <td>Towed</td>\n",
              "      <td>TOWED MOTOR VEHICLE</td>\n",
              "      <td>D4</td>\n",
              "      <td>151</td>\n",
              "      <td>NaN</td>\n",
              "      <td>2018-09-03 19:27:00</td>\n",
              "      <td>2018</td>\n",
              "      <td>9</td>\n",
              "      <td>Monday</td>\n",
              "      <td>19</td>\n",
              "      <td>Part Three</td>\n",
              "      <td>CAZENOVE ST</td>\n",
              "      <td>42.346589</td>\n",
              "      <td>-71.072429</td>\n",
              "      <td>(42.34658879, -71.07242943)</td>\n",
              "    </tr>\n",
              "    <tr>\n",
              "      <th>3</th>\n",
              "      <td>I182070940</td>\n",
              "      <td>3114</td>\n",
              "      <td>Investigate Property</td>\n",
              "      <td>INVESTIGATE PROPERTY</td>\n",
              "      <td>D4</td>\n",
              "      <td>272</td>\n",
              "      <td>NaN</td>\n",
              "      <td>2018-09-03 21:16:00</td>\n",
              "      <td>2018</td>\n",
              "      <td>9</td>\n",
              "      <td>Monday</td>\n",
              "      <td>21</td>\n",
              "      <td>Part Three</td>\n",
              "      <td>NEWCOMB ST</td>\n",
              "      <td>42.334182</td>\n",
              "      <td>-71.078664</td>\n",
              "      <td>(42.33418175, -71.07866441)</td>\n",
              "    </tr>\n",
              "    <tr>\n",
              "      <th>4</th>\n",
              "      <td>I182070938</td>\n",
              "      <td>3114</td>\n",
              "      <td>Investigate Property</td>\n",
              "      <td>INVESTIGATE PROPERTY</td>\n",
              "      <td>B3</td>\n",
              "      <td>421</td>\n",
              "      <td>NaN</td>\n",
              "      <td>2018-09-03 21:05:00</td>\n",
              "      <td>2018</td>\n",
              "      <td>9</td>\n",
              "      <td>Monday</td>\n",
              "      <td>21</td>\n",
              "      <td>Part Three</td>\n",
              "      <td>DELHI ST</td>\n",
              "      <td>42.275365</td>\n",
              "      <td>-71.090361</td>\n",
              "      <td>(42.27536542, -71.09036101)</td>\n",
              "    </tr>\n",
              "    <tr>\n",
              "      <th>...</th>\n",
              "      <td>...</td>\n",
              "      <td>...</td>\n",
              "      <td>...</td>\n",
              "      <td>...</td>\n",
              "      <td>...</td>\n",
              "      <td>...</td>\n",
              "      <td>...</td>\n",
              "      <td>...</td>\n",
              "      <td>...</td>\n",
              "      <td>...</td>\n",
              "      <td>...</td>\n",
              "      <td>...</td>\n",
              "      <td>...</td>\n",
              "      <td>...</td>\n",
              "      <td>...</td>\n",
              "      <td>...</td>\n",
              "      <td>...</td>\n",
              "    </tr>\n",
              "    <tr>\n",
              "      <th>319068</th>\n",
              "      <td>I050310906-00</td>\n",
              "      <td>3125</td>\n",
              "      <td>Warrant Arrests</td>\n",
              "      <td>WARRANT ARREST</td>\n",
              "      <td>D4</td>\n",
              "      <td>285</td>\n",
              "      <td>NaN</td>\n",
              "      <td>2016-06-05 17:25:00</td>\n",
              "      <td>2016</td>\n",
              "      <td>6</td>\n",
              "      <td>Sunday</td>\n",
              "      <td>17</td>\n",
              "      <td>Part Three</td>\n",
              "      <td>COVENTRY ST</td>\n",
              "      <td>42.336951</td>\n",
              "      <td>-71.085748</td>\n",
              "      <td>(42.33695098, -71.08574813)</td>\n",
              "    </tr>\n",
              "    <tr>\n",
              "      <th>319069</th>\n",
              "      <td>I030217815-08</td>\n",
              "      <td>111</td>\n",
              "      <td>Homicide</td>\n",
              "      <td>MURDER, NON-NEGLIGIENT MANSLAUGHTER</td>\n",
              "      <td>E18</td>\n",
              "      <td>520</td>\n",
              "      <td>NaN</td>\n",
              "      <td>2015-07-09 13:38:00</td>\n",
              "      <td>2015</td>\n",
              "      <td>7</td>\n",
              "      <td>Thursday</td>\n",
              "      <td>13</td>\n",
              "      <td>Part One</td>\n",
              "      <td>RIVER ST</td>\n",
              "      <td>42.255926</td>\n",
              "      <td>-71.123172</td>\n",
              "      <td>(42.25592648, -71.12317207)</td>\n",
              "    </tr>\n",
              "    <tr>\n",
              "      <th>319070</th>\n",
              "      <td>I030217815-08</td>\n",
              "      <td>3125</td>\n",
              "      <td>Warrant Arrests</td>\n",
              "      <td>WARRANT ARREST</td>\n",
              "      <td>E18</td>\n",
              "      <td>520</td>\n",
              "      <td>NaN</td>\n",
              "      <td>2015-07-09 13:38:00</td>\n",
              "      <td>2015</td>\n",
              "      <td>7</td>\n",
              "      <td>Thursday</td>\n",
              "      <td>13</td>\n",
              "      <td>Part Three</td>\n",
              "      <td>RIVER ST</td>\n",
              "      <td>42.255926</td>\n",
              "      <td>-71.123172</td>\n",
              "      <td>(42.25592648, -71.12317207)</td>\n",
              "    </tr>\n",
              "    <tr>\n",
              "      <th>319071</th>\n",
              "      <td>I010370257-00</td>\n",
              "      <td>3125</td>\n",
              "      <td>Warrant Arrests</td>\n",
              "      <td>WARRANT ARREST</td>\n",
              "      <td>E13</td>\n",
              "      <td>569</td>\n",
              "      <td>NaN</td>\n",
              "      <td>2016-05-31 19:35:00</td>\n",
              "      <td>2016</td>\n",
              "      <td>5</td>\n",
              "      <td>Tuesday</td>\n",
              "      <td>19</td>\n",
              "      <td>Part Three</td>\n",
              "      <td>NEW WASHINGTON ST</td>\n",
              "      <td>42.302333</td>\n",
              "      <td>-71.111565</td>\n",
              "      <td>(42.30233307, -71.11156487)</td>\n",
              "    </tr>\n",
              "    <tr>\n",
              "      <th>319072</th>\n",
              "      <td>142052550</td>\n",
              "      <td>3125</td>\n",
              "      <td>Warrant Arrests</td>\n",
              "      <td>WARRANT ARREST</td>\n",
              "      <td>D4</td>\n",
              "      <td>903</td>\n",
              "      <td>NaN</td>\n",
              "      <td>2015-06-22 00:12:00</td>\n",
              "      <td>2015</td>\n",
              "      <td>6</td>\n",
              "      <td>Monday</td>\n",
              "      <td>0</td>\n",
              "      <td>Part Three</td>\n",
              "      <td>WASHINGTON ST</td>\n",
              "      <td>42.333839</td>\n",
              "      <td>-71.080290</td>\n",
              "      <td>(42.33383935, -71.08029038)</td>\n",
              "    </tr>\n",
              "  </tbody>\n",
              "</table>\n",
              "<p>319073 rows × 17 columns</p>\n",
              "</div>"
            ],
            "text/plain": [
              "       INCIDENT_NUMBER  OFFENSE_CODE  ...       Long                     Location\n",
              "0           I182070945           619  ... -71.139371  (42.35779134, -71.13937053)\n",
              "1           I182070943          1402  ... -71.060300  (42.30682138, -71.06030035)\n",
              "2           I182070941          3410  ... -71.072429  (42.34658879, -71.07242943)\n",
              "3           I182070940          3114  ... -71.078664  (42.33418175, -71.07866441)\n",
              "4           I182070938          3114  ... -71.090361  (42.27536542, -71.09036101)\n",
              "...                ...           ...  ...        ...                          ...\n",
              "319068   I050310906-00          3125  ... -71.085748  (42.33695098, -71.08574813)\n",
              "319069   I030217815-08           111  ... -71.123172  (42.25592648, -71.12317207)\n",
              "319070   I030217815-08          3125  ... -71.123172  (42.25592648, -71.12317207)\n",
              "319071   I010370257-00          3125  ... -71.111565  (42.30233307, -71.11156487)\n",
              "319072       142052550          3125  ... -71.080290  (42.33383935, -71.08029038)\n",
              "\n",
              "[319073 rows x 17 columns]"
            ]
          },
          "metadata": {
            "tags": []
          }
        }
      ]
    },
    {
      "cell_type": "code",
      "metadata": {
        "id": "4Pv3BAD7rnL2",
        "colab": {
          "base_uri": "https://localhost:8080/"
        },
        "outputId": "49cb9dca-5705-449a-b88c-eedd31fbe2c9"
      },
      "source": [
        "crimes.info()"
      ],
      "execution_count": null,
      "outputs": [
        {
          "output_type": "stream",
          "text": [
            "<class 'pandas.core.frame.DataFrame'>\n",
            "RangeIndex: 319073 entries, 0 to 319072\n",
            "Data columns (total 17 columns):\n",
            " #   Column               Non-Null Count   Dtype  \n",
            "---  ------               --------------   -----  \n",
            " 0   INCIDENT_NUMBER      319073 non-null  object \n",
            " 1   OFFENSE_CODE         319073 non-null  int64  \n",
            " 2   OFFENSE_CODE_GROUP   319073 non-null  object \n",
            " 3   OFFENSE_DESCRIPTION  319073 non-null  object \n",
            " 4   DISTRICT             317308 non-null  object \n",
            " 5   REPORTING_AREA       319073 non-null  object \n",
            " 6   SHOOTING             1019 non-null    object \n",
            " 7   OCCURRED_ON_DATE     319073 non-null  object \n",
            " 8   YEAR                 319073 non-null  int64  \n",
            " 9   MONTH                319073 non-null  int64  \n",
            " 10  DAY_OF_WEEK          319073 non-null  object \n",
            " 11  HOUR                 319073 non-null  int64  \n",
            " 12  UCR_PART             318983 non-null  object \n",
            " 13  STREET               308202 non-null  object \n",
            " 14  Lat                  299074 non-null  float64\n",
            " 15  Long                 299074 non-null  float64\n",
            " 16  Location             319073 non-null  object \n",
            "dtypes: float64(2), int64(4), object(11)\n",
            "memory usage: 41.4+ MB\n"
          ],
          "name": "stdout"
        }
      ]
    },
    {
      "cell_type": "code",
      "metadata": {
        "id": "LzoZSK0bi1Rw",
        "colab": {
          "base_uri": "https://localhost:8080/",
          "height": 37
        },
        "outputId": "284f0f4a-6003-4132-c30c-6bb2afe366e9"
      },
      "source": [
        "display(crimes['SHOOTING'].iloc[4108])"
      ],
      "execution_count": null,
      "outputs": [
        {
          "output_type": "display_data",
          "data": {
            "application/vnd.google.colaboratory.intrinsic+json": {
              "type": "string"
            },
            "text/plain": [
              "'Y'"
            ]
          },
          "metadata": {
            "tags": []
          }
        }
      ]
    },
    {
      "cell_type": "code",
      "metadata": {
        "id": "aKgNkiWCTTE6"
      },
      "source": [
        "# load offense_codes.csv\n",
        "offencecodes = pd.read_csv('offense_codes.csv', engine='python' )   # result: 576 rows × 2 columns"
      ],
      "execution_count": null,
      "outputs": []
    },
    {
      "cell_type": "code",
      "metadata": {
        "id": "qgVz91V_Uw4J",
        "colab": {
          "base_uri": "https://localhost:8080/",
          "height": 419
        },
        "outputId": "c6799acf-a017-47b2-dc64-c0c8362bbd73"
      },
      "source": [
        "# to view the dataset\n",
        "offencecodes"
      ],
      "execution_count": null,
      "outputs": [
        {
          "output_type": "execute_result",
          "data": {
            "text/html": [
              "<div>\n",
              "<style scoped>\n",
              "    .dataframe tbody tr th:only-of-type {\n",
              "        vertical-align: middle;\n",
              "    }\n",
              "\n",
              "    .dataframe tbody tr th {\n",
              "        vertical-align: top;\n",
              "    }\n",
              "\n",
              "    .dataframe thead th {\n",
              "        text-align: right;\n",
              "    }\n",
              "</style>\n",
              "<table border=\"1\" class=\"dataframe\">\n",
              "  <thead>\n",
              "    <tr style=\"text-align: right;\">\n",
              "      <th></th>\n",
              "      <th>CODE</th>\n",
              "      <th>NAME</th>\n",
              "    </tr>\n",
              "  </thead>\n",
              "  <tbody>\n",
              "    <tr>\n",
              "      <th>0</th>\n",
              "      <td>612</td>\n",
              "      <td>LARCENY PURSE SNATCH - NO FORCE</td>\n",
              "    </tr>\n",
              "    <tr>\n",
              "      <th>1</th>\n",
              "      <td>613</td>\n",
              "      <td>LARCENY SHOPLIFTING</td>\n",
              "    </tr>\n",
              "    <tr>\n",
              "      <th>2</th>\n",
              "      <td>615</td>\n",
              "      <td>LARCENY THEFT OF MV PARTS &amp; ACCESSORIES</td>\n",
              "    </tr>\n",
              "    <tr>\n",
              "      <th>3</th>\n",
              "      <td>1731</td>\n",
              "      <td>INCEST</td>\n",
              "    </tr>\n",
              "    <tr>\n",
              "      <th>4</th>\n",
              "      <td>3111</td>\n",
              "      <td>LICENSE PREMISE VIOLATION</td>\n",
              "    </tr>\n",
              "    <tr>\n",
              "      <th>...</th>\n",
              "      <td>...</td>\n",
              "      <td>...</td>\n",
              "    </tr>\n",
              "    <tr>\n",
              "      <th>571</th>\n",
              "      <td>1806</td>\n",
              "      <td>DRUGS - CLASS B TRAFFICKING OVER 18 GRAMS</td>\n",
              "    </tr>\n",
              "    <tr>\n",
              "      <th>572</th>\n",
              "      <td>1807</td>\n",
              "      <td>DRUGS - CLASS D TRAFFICKING OVER 50 GRAMS</td>\n",
              "    </tr>\n",
              "    <tr>\n",
              "      <th>573</th>\n",
              "      <td>1610</td>\n",
              "      <td>HUMAN TRAFFICKING - COMMERCIAL SEX ACTS</td>\n",
              "    </tr>\n",
              "    <tr>\n",
              "      <th>574</th>\n",
              "      <td>2010</td>\n",
              "      <td>HOME INVASION</td>\n",
              "    </tr>\n",
              "    <tr>\n",
              "      <th>575</th>\n",
              "      <td>1620</td>\n",
              "      <td>HUMAN TRAFFICKING - INVOLUNTARY SERVITUDE</td>\n",
              "    </tr>\n",
              "  </tbody>\n",
              "</table>\n",
              "<p>576 rows × 2 columns</p>\n",
              "</div>"
            ],
            "text/plain": [
              "     CODE                                       NAME\n",
              "0     612           LARCENY PURSE SNATCH - NO FORCE \n",
              "1     613                        LARCENY SHOPLIFTING\n",
              "2     615    LARCENY THEFT OF MV PARTS & ACCESSORIES\n",
              "3    1731                                     INCEST\n",
              "4    3111                  LICENSE PREMISE VIOLATION\n",
              "..    ...                                        ...\n",
              "571  1806  DRUGS - CLASS B TRAFFICKING OVER 18 GRAMS\n",
              "572  1807  DRUGS - CLASS D TRAFFICKING OVER 50 GRAMS\n",
              "573  1610    HUMAN TRAFFICKING - COMMERCIAL SEX ACTS\n",
              "574  2010                              HOME INVASION\n",
              "575  1620  HUMAN TRAFFICKING - INVOLUNTARY SERVITUDE\n",
              "\n",
              "[576 rows x 2 columns]"
            ]
          },
          "metadata": {
            "tags": []
          },
          "execution_count": 7
        }
      ]
    },
    {
      "cell_type": "markdown",
      "metadata": {
        "id": "J0nP5P1xSHQN"
      },
      "source": [
        "ok so now we can see our dataset and start different preprocessing steps \n",
        "\n",
        "some steps suggested in the assignment:\n",
        "*   remove duplicate information and uninformative columns\n",
        "* compute some statistics\n",
        "*   create training and test data for machine learning tasks\n",
        "\n",
        "* ... and more\n",
        "\n",
        "1. Kaggle: www.kaggle.com\n",
        "2. Scikit-learn documentation : https://scikit-learn.org/stable/user_guide.html  --> here you can find preprocessing techniques at \"6. Dataset transformations\" and then \"6.3 preprocessing data\"\n",
        "3. Seaborn documentation: https://seaborn.pydata.org/tutorial.html\n"
      ]
    },
    {
      "cell_type": "code",
      "metadata": {
        "id": "t8F7SwrcWf8N"
      },
      "source": [
        "import numpy as np\n",
        "#offense_code = crimes['OFFENSE_CODE']\n",
        "\n",
        "# we check the types of all the values of the columns:\n",
        "# other possibility is below 'crimes.info()'\n",
        "\n",
        "#crimes['INCIDENT_NUMBER']\n",
        "#OFFENSE_CODE = int64\n",
        "#'INCIDENT_NUMBER'= object\n",
        "#crimes['OFFENSE_CODE_GROUP'] object\n",
        "#crimes['OFFENSE_DESCRIPTION'] object\n",
        "#str(crimes['OFFENSE_DESCRIPTION'])\n",
        "#crimes['DISTRICT'] object\n",
        "#crimes['REPORTING_AREA'] object\n",
        "# crimes['SHOOTING'] object \n",
        "#crimes['SHOOTING'].isna().sum() # 318054 nans \n",
        "#crimes['OCCURRED_ON_DATE'] object\n",
        "#crimes['YEAR'] int\n",
        "#crimes['MONTH'] int\n",
        "#crimes['DAY_OF_WEEK'] object\n",
        "#crimes['HOUR']  #int64\n",
        "#crimes['UCR_PART'] object\n",
        "#crimes['STREET'] object\n",
        "#crimes['Lat'] float 64\n",
        "#crimes['Long'] float64\n",
        "#crimes['Location'] object"
      ],
      "execution_count": null,
      "outputs": []
    },
    {
      "cell_type": "code",
      "metadata": {
        "id": "SMSVji_JClVj",
        "colab": {
          "base_uri": "https://localhost:8080/"
        },
        "outputId": "03992c08-1ded-4824-9d00-8c46f4832869"
      },
      "source": [
        "#checking unique values of each variable\n",
        "crimes.nunique()"
      ],
      "execution_count": null,
      "outputs": [
        {
          "output_type": "execute_result",
          "data": {
            "text/plain": [
              "INCIDENT_NUMBER        282517\n",
              "OFFENSE_CODE              222\n",
              "OFFENSE_CODE_GROUP         67\n",
              "OFFENSE_DESCRIPTION       244\n",
              "DISTRICT                   12\n",
              "REPORTING_AREA            879\n",
              "SHOOTING                    1\n",
              "OCCURRED_ON_DATE       233229\n",
              "YEAR                        4\n",
              "MONTH                      12\n",
              "DAY_OF_WEEK                 7\n",
              "HOUR                       24\n",
              "UCR_PART                    4\n",
              "STREET                   4657\n",
              "Lat                     18178\n",
              "Long                    18178\n",
              "Location                18194\n",
              "dtype: int64"
            ]
          },
          "metadata": {
            "tags": []
          },
          "execution_count": 9
        }
      ]
    },
    {
      "cell_type": "code",
      "metadata": {
        "id": "f8cpb-haDP09",
        "colab": {
          "base_uri": "https://localhost:8080/"
        },
        "outputId": "ac255028-755f-45e2-bf54-48a7204ee521"
      },
      "source": [
        "#as you can see there are 282517 unique incidents, but dataset contains 319073, which means there are duplicates.\n",
        "#let's check if there are identical rows\n",
        "crimes.duplicated() \n"
      ],
      "execution_count": null,
      "outputs": [
        {
          "output_type": "execute_result",
          "data": {
            "text/plain": [
              "0         False\n",
              "1         False\n",
              "2         False\n",
              "3         False\n",
              "4         False\n",
              "          ...  \n",
              "319068    False\n",
              "319069    False\n",
              "319070    False\n",
              "319071    False\n",
              "319072    False\n",
              "Length: 319073, dtype: bool"
            ]
          },
          "metadata": {
            "tags": []
          },
          "execution_count": 10
        }
      ]
    },
    {
      "cell_type": "code",
      "metadata": {
        "id": "woaVNbyXGJHh",
        "colab": {
          "base_uri": "https://localhost:8080/"
        },
        "outputId": "b961560e-483e-4455-f61f-32813fdc2a9c"
      },
      "source": [
        "#as you can see there are 23 identical rows\n",
        "crimes.duplicated().sum()"
      ],
      "execution_count": null,
      "outputs": [
        {
          "output_type": "execute_result",
          "data": {
            "text/plain": [
              "23"
            ]
          },
          "metadata": {
            "tags": []
          },
          "execution_count": 11
        }
      ]
    },
    {
      "cell_type": "code",
      "metadata": {
        "id": "5lLOtQHYEX-o"
      },
      "source": [
        "#so we should remove them from the dataset\n",
        "crimes = crimes.drop_duplicates()"
      ],
      "execution_count": null,
      "outputs": []
    },
    {
      "cell_type": "code",
      "metadata": {
        "id": "jVC0Q2qbYfay"
      },
      "source": [
        "#remove uninformative columns: INCIDENT_NUMBER, OFFENCE_CODE, OCCURED_ON_DATE, UCR_PART, LOCATION\n",
        "# also remove street?\n",
        "crimes= crimes.drop(columns = ['INCIDENT_NUMBER', 'OFFENSE_CODE', 'OCCURRED_ON_DATE', 'UCR_PART', 'Location'])\n"
      ],
      "execution_count": null,
      "outputs": []
    },
    {
      "cell_type": "code",
      "metadata": {
        "id": "PzVzCL1cFLLg",
        "colab": {
          "base_uri": "https://localhost:8080/",
          "height": 555
        },
        "outputId": "b8b81519-a2d5-46ac-f05a-3f3f023f2920"
      },
      "source": [
        "crimes"
      ],
      "execution_count": null,
      "outputs": [
        {
          "output_type": "execute_result",
          "data": {
            "text/html": [
              "<div>\n",
              "<style scoped>\n",
              "    .dataframe tbody tr th:only-of-type {\n",
              "        vertical-align: middle;\n",
              "    }\n",
              "\n",
              "    .dataframe tbody tr th {\n",
              "        vertical-align: top;\n",
              "    }\n",
              "\n",
              "    .dataframe thead th {\n",
              "        text-align: right;\n",
              "    }\n",
              "</style>\n",
              "<table border=\"1\" class=\"dataframe\">\n",
              "  <thead>\n",
              "    <tr style=\"text-align: right;\">\n",
              "      <th></th>\n",
              "      <th>OFFENSE_CODE_GROUP</th>\n",
              "      <th>OFFENSE_DESCRIPTION</th>\n",
              "      <th>DISTRICT</th>\n",
              "      <th>REPORTING_AREA</th>\n",
              "      <th>SHOOTING</th>\n",
              "      <th>YEAR</th>\n",
              "      <th>MONTH</th>\n",
              "      <th>DAY_OF_WEEK</th>\n",
              "      <th>HOUR</th>\n",
              "      <th>STREET</th>\n",
              "      <th>Lat</th>\n",
              "      <th>Long</th>\n",
              "    </tr>\n",
              "  </thead>\n",
              "  <tbody>\n",
              "    <tr>\n",
              "      <th>0</th>\n",
              "      <td>Larceny</td>\n",
              "      <td>LARCENY ALL OTHERS</td>\n",
              "      <td>D14</td>\n",
              "      <td>808</td>\n",
              "      <td>NaN</td>\n",
              "      <td>2018</td>\n",
              "      <td>9</td>\n",
              "      <td>Sunday</td>\n",
              "      <td>13</td>\n",
              "      <td>LINCOLN ST</td>\n",
              "      <td>42.357791</td>\n",
              "      <td>-71.139371</td>\n",
              "    </tr>\n",
              "    <tr>\n",
              "      <th>1</th>\n",
              "      <td>Vandalism</td>\n",
              "      <td>VANDALISM</td>\n",
              "      <td>C11</td>\n",
              "      <td>347</td>\n",
              "      <td>NaN</td>\n",
              "      <td>2018</td>\n",
              "      <td>8</td>\n",
              "      <td>Tuesday</td>\n",
              "      <td>0</td>\n",
              "      <td>HECLA ST</td>\n",
              "      <td>42.306821</td>\n",
              "      <td>-71.060300</td>\n",
              "    </tr>\n",
              "    <tr>\n",
              "      <th>2</th>\n",
              "      <td>Towed</td>\n",
              "      <td>TOWED MOTOR VEHICLE</td>\n",
              "      <td>D4</td>\n",
              "      <td>151</td>\n",
              "      <td>NaN</td>\n",
              "      <td>2018</td>\n",
              "      <td>9</td>\n",
              "      <td>Monday</td>\n",
              "      <td>19</td>\n",
              "      <td>CAZENOVE ST</td>\n",
              "      <td>42.346589</td>\n",
              "      <td>-71.072429</td>\n",
              "    </tr>\n",
              "    <tr>\n",
              "      <th>3</th>\n",
              "      <td>Investigate Property</td>\n",
              "      <td>INVESTIGATE PROPERTY</td>\n",
              "      <td>D4</td>\n",
              "      <td>272</td>\n",
              "      <td>NaN</td>\n",
              "      <td>2018</td>\n",
              "      <td>9</td>\n",
              "      <td>Monday</td>\n",
              "      <td>21</td>\n",
              "      <td>NEWCOMB ST</td>\n",
              "      <td>42.334182</td>\n",
              "      <td>-71.078664</td>\n",
              "    </tr>\n",
              "    <tr>\n",
              "      <th>4</th>\n",
              "      <td>Investigate Property</td>\n",
              "      <td>INVESTIGATE PROPERTY</td>\n",
              "      <td>B3</td>\n",
              "      <td>421</td>\n",
              "      <td>NaN</td>\n",
              "      <td>2018</td>\n",
              "      <td>9</td>\n",
              "      <td>Monday</td>\n",
              "      <td>21</td>\n",
              "      <td>DELHI ST</td>\n",
              "      <td>42.275365</td>\n",
              "      <td>-71.090361</td>\n",
              "    </tr>\n",
              "    <tr>\n",
              "      <th>...</th>\n",
              "      <td>...</td>\n",
              "      <td>...</td>\n",
              "      <td>...</td>\n",
              "      <td>...</td>\n",
              "      <td>...</td>\n",
              "      <td>...</td>\n",
              "      <td>...</td>\n",
              "      <td>...</td>\n",
              "      <td>...</td>\n",
              "      <td>...</td>\n",
              "      <td>...</td>\n",
              "      <td>...</td>\n",
              "    </tr>\n",
              "    <tr>\n",
              "      <th>319068</th>\n",
              "      <td>Warrant Arrests</td>\n",
              "      <td>WARRANT ARREST</td>\n",
              "      <td>D4</td>\n",
              "      <td>285</td>\n",
              "      <td>NaN</td>\n",
              "      <td>2016</td>\n",
              "      <td>6</td>\n",
              "      <td>Sunday</td>\n",
              "      <td>17</td>\n",
              "      <td>COVENTRY ST</td>\n",
              "      <td>42.336951</td>\n",
              "      <td>-71.085748</td>\n",
              "    </tr>\n",
              "    <tr>\n",
              "      <th>319069</th>\n",
              "      <td>Homicide</td>\n",
              "      <td>MURDER, NON-NEGLIGIENT MANSLAUGHTER</td>\n",
              "      <td>E18</td>\n",
              "      <td>520</td>\n",
              "      <td>NaN</td>\n",
              "      <td>2015</td>\n",
              "      <td>7</td>\n",
              "      <td>Thursday</td>\n",
              "      <td>13</td>\n",
              "      <td>RIVER ST</td>\n",
              "      <td>42.255926</td>\n",
              "      <td>-71.123172</td>\n",
              "    </tr>\n",
              "    <tr>\n",
              "      <th>319070</th>\n",
              "      <td>Warrant Arrests</td>\n",
              "      <td>WARRANT ARREST</td>\n",
              "      <td>E18</td>\n",
              "      <td>520</td>\n",
              "      <td>NaN</td>\n",
              "      <td>2015</td>\n",
              "      <td>7</td>\n",
              "      <td>Thursday</td>\n",
              "      <td>13</td>\n",
              "      <td>RIVER ST</td>\n",
              "      <td>42.255926</td>\n",
              "      <td>-71.123172</td>\n",
              "    </tr>\n",
              "    <tr>\n",
              "      <th>319071</th>\n",
              "      <td>Warrant Arrests</td>\n",
              "      <td>WARRANT ARREST</td>\n",
              "      <td>E13</td>\n",
              "      <td>569</td>\n",
              "      <td>NaN</td>\n",
              "      <td>2016</td>\n",
              "      <td>5</td>\n",
              "      <td>Tuesday</td>\n",
              "      <td>19</td>\n",
              "      <td>NEW WASHINGTON ST</td>\n",
              "      <td>42.302333</td>\n",
              "      <td>-71.111565</td>\n",
              "    </tr>\n",
              "    <tr>\n",
              "      <th>319072</th>\n",
              "      <td>Warrant Arrests</td>\n",
              "      <td>WARRANT ARREST</td>\n",
              "      <td>D4</td>\n",
              "      <td>903</td>\n",
              "      <td>NaN</td>\n",
              "      <td>2015</td>\n",
              "      <td>6</td>\n",
              "      <td>Monday</td>\n",
              "      <td>0</td>\n",
              "      <td>WASHINGTON ST</td>\n",
              "      <td>42.333839</td>\n",
              "      <td>-71.080290</td>\n",
              "    </tr>\n",
              "  </tbody>\n",
              "</table>\n",
              "<p>319050 rows × 12 columns</p>\n",
              "</div>"
            ],
            "text/plain": [
              "          OFFENSE_CODE_GROUP  ...       Long\n",
              "0                    Larceny  ... -71.139371\n",
              "1                  Vandalism  ... -71.060300\n",
              "2                      Towed  ... -71.072429\n",
              "3       Investigate Property  ... -71.078664\n",
              "4       Investigate Property  ... -71.090361\n",
              "...                      ...  ...        ...\n",
              "319068       Warrant Arrests  ... -71.085748\n",
              "319069              Homicide  ... -71.123172\n",
              "319070       Warrant Arrests  ... -71.123172\n",
              "319071       Warrant Arrests  ... -71.111565\n",
              "319072       Warrant Arrests  ... -71.080290\n",
              "\n",
              "[319050 rows x 12 columns]"
            ]
          },
          "metadata": {
            "tags": []
          },
          "execution_count": 14
        }
      ]
    },
    {
      "cell_type": "code",
      "metadata": {
        "id": "5TnPCOpFKijd",
        "colab": {
          "base_uri": "https://localhost:8080/"
        },
        "outputId": "a406c3b8-af17-44bd-dc75-b46dff3b1a65"
      },
      "source": [
        "#checking missing values in each column\n",
        "crimes.isna().sum()"
      ],
      "execution_count": null,
      "outputs": [
        {
          "output_type": "execute_result",
          "data": {
            "text/plain": [
              "OFFENSE_CODE_GROUP          0\n",
              "OFFENSE_DESCRIPTION         0\n",
              "DISTRICT                 1765\n",
              "REPORTING_AREA              0\n",
              "SHOOTING               318031\n",
              "YEAR                        0\n",
              "MONTH                       0\n",
              "DAY_OF_WEEK                 0\n",
              "HOUR                        0\n",
              "STREET                  10871\n",
              "Lat                     19998\n",
              "Long                    19998\n",
              "dtype: int64"
            ]
          },
          "metadata": {
            "tags": []
          },
          "execution_count": 15
        }
      ]
    },
    {
      "cell_type": "code",
      "metadata": {
        "id": "AyjojiolEH2a"
      },
      "source": [
        "# SHOOTING: change values nan to 0 and Y to 1\n",
        "crimes['SHOOTING'].isna().sum() # 318031 nans \n",
        "crimes['SHOOTING'] = crimes['SHOOTING'].fillna(0) # change nans in 0\n",
        "# change Y in 1\n",
        "crimes['SHOOTING'] = crimes['SHOOTING'].replace(to_replace = ['Y'], value = [1])"
      ],
      "execution_count": null,
      "outputs": []
    },
    {
      "cell_type": "code",
      "metadata": {
        "id": "TmV5ZscEFPpq",
        "colab": {
          "base_uri": "https://localhost:8080/",
          "height": 555
        },
        "outputId": "d56a4e74-1275-48a3-ca2f-618d85e84a97"
      },
      "source": [
        "crimes"
      ],
      "execution_count": null,
      "outputs": [
        {
          "output_type": "execute_result",
          "data": {
            "text/html": [
              "<div>\n",
              "<style scoped>\n",
              "    .dataframe tbody tr th:only-of-type {\n",
              "        vertical-align: middle;\n",
              "    }\n",
              "\n",
              "    .dataframe tbody tr th {\n",
              "        vertical-align: top;\n",
              "    }\n",
              "\n",
              "    .dataframe thead th {\n",
              "        text-align: right;\n",
              "    }\n",
              "</style>\n",
              "<table border=\"1\" class=\"dataframe\">\n",
              "  <thead>\n",
              "    <tr style=\"text-align: right;\">\n",
              "      <th></th>\n",
              "      <th>OFFENSE_CODE_GROUP</th>\n",
              "      <th>OFFENSE_DESCRIPTION</th>\n",
              "      <th>DISTRICT</th>\n",
              "      <th>REPORTING_AREA</th>\n",
              "      <th>SHOOTING</th>\n",
              "      <th>YEAR</th>\n",
              "      <th>MONTH</th>\n",
              "      <th>DAY_OF_WEEK</th>\n",
              "      <th>HOUR</th>\n",
              "      <th>STREET</th>\n",
              "      <th>Lat</th>\n",
              "      <th>Long</th>\n",
              "    </tr>\n",
              "  </thead>\n",
              "  <tbody>\n",
              "    <tr>\n",
              "      <th>0</th>\n",
              "      <td>Larceny</td>\n",
              "      <td>LARCENY ALL OTHERS</td>\n",
              "      <td>D14</td>\n",
              "      <td>808</td>\n",
              "      <td>0</td>\n",
              "      <td>2018</td>\n",
              "      <td>9</td>\n",
              "      <td>Sunday</td>\n",
              "      <td>13</td>\n",
              "      <td>LINCOLN ST</td>\n",
              "      <td>42.357791</td>\n",
              "      <td>-71.139371</td>\n",
              "    </tr>\n",
              "    <tr>\n",
              "      <th>1</th>\n",
              "      <td>Vandalism</td>\n",
              "      <td>VANDALISM</td>\n",
              "      <td>C11</td>\n",
              "      <td>347</td>\n",
              "      <td>0</td>\n",
              "      <td>2018</td>\n",
              "      <td>8</td>\n",
              "      <td>Tuesday</td>\n",
              "      <td>0</td>\n",
              "      <td>HECLA ST</td>\n",
              "      <td>42.306821</td>\n",
              "      <td>-71.060300</td>\n",
              "    </tr>\n",
              "    <tr>\n",
              "      <th>2</th>\n",
              "      <td>Towed</td>\n",
              "      <td>TOWED MOTOR VEHICLE</td>\n",
              "      <td>D4</td>\n",
              "      <td>151</td>\n",
              "      <td>0</td>\n",
              "      <td>2018</td>\n",
              "      <td>9</td>\n",
              "      <td>Monday</td>\n",
              "      <td>19</td>\n",
              "      <td>CAZENOVE ST</td>\n",
              "      <td>42.346589</td>\n",
              "      <td>-71.072429</td>\n",
              "    </tr>\n",
              "    <tr>\n",
              "      <th>3</th>\n",
              "      <td>Investigate Property</td>\n",
              "      <td>INVESTIGATE PROPERTY</td>\n",
              "      <td>D4</td>\n",
              "      <td>272</td>\n",
              "      <td>0</td>\n",
              "      <td>2018</td>\n",
              "      <td>9</td>\n",
              "      <td>Monday</td>\n",
              "      <td>21</td>\n",
              "      <td>NEWCOMB ST</td>\n",
              "      <td>42.334182</td>\n",
              "      <td>-71.078664</td>\n",
              "    </tr>\n",
              "    <tr>\n",
              "      <th>4</th>\n",
              "      <td>Investigate Property</td>\n",
              "      <td>INVESTIGATE PROPERTY</td>\n",
              "      <td>B3</td>\n",
              "      <td>421</td>\n",
              "      <td>0</td>\n",
              "      <td>2018</td>\n",
              "      <td>9</td>\n",
              "      <td>Monday</td>\n",
              "      <td>21</td>\n",
              "      <td>DELHI ST</td>\n",
              "      <td>42.275365</td>\n",
              "      <td>-71.090361</td>\n",
              "    </tr>\n",
              "    <tr>\n",
              "      <th>...</th>\n",
              "      <td>...</td>\n",
              "      <td>...</td>\n",
              "      <td>...</td>\n",
              "      <td>...</td>\n",
              "      <td>...</td>\n",
              "      <td>...</td>\n",
              "      <td>...</td>\n",
              "      <td>...</td>\n",
              "      <td>...</td>\n",
              "      <td>...</td>\n",
              "      <td>...</td>\n",
              "      <td>...</td>\n",
              "    </tr>\n",
              "    <tr>\n",
              "      <th>319068</th>\n",
              "      <td>Warrant Arrests</td>\n",
              "      <td>WARRANT ARREST</td>\n",
              "      <td>D4</td>\n",
              "      <td>285</td>\n",
              "      <td>0</td>\n",
              "      <td>2016</td>\n",
              "      <td>6</td>\n",
              "      <td>Sunday</td>\n",
              "      <td>17</td>\n",
              "      <td>COVENTRY ST</td>\n",
              "      <td>42.336951</td>\n",
              "      <td>-71.085748</td>\n",
              "    </tr>\n",
              "    <tr>\n",
              "      <th>319069</th>\n",
              "      <td>Homicide</td>\n",
              "      <td>MURDER, NON-NEGLIGIENT MANSLAUGHTER</td>\n",
              "      <td>E18</td>\n",
              "      <td>520</td>\n",
              "      <td>0</td>\n",
              "      <td>2015</td>\n",
              "      <td>7</td>\n",
              "      <td>Thursday</td>\n",
              "      <td>13</td>\n",
              "      <td>RIVER ST</td>\n",
              "      <td>42.255926</td>\n",
              "      <td>-71.123172</td>\n",
              "    </tr>\n",
              "    <tr>\n",
              "      <th>319070</th>\n",
              "      <td>Warrant Arrests</td>\n",
              "      <td>WARRANT ARREST</td>\n",
              "      <td>E18</td>\n",
              "      <td>520</td>\n",
              "      <td>0</td>\n",
              "      <td>2015</td>\n",
              "      <td>7</td>\n",
              "      <td>Thursday</td>\n",
              "      <td>13</td>\n",
              "      <td>RIVER ST</td>\n",
              "      <td>42.255926</td>\n",
              "      <td>-71.123172</td>\n",
              "    </tr>\n",
              "    <tr>\n",
              "      <th>319071</th>\n",
              "      <td>Warrant Arrests</td>\n",
              "      <td>WARRANT ARREST</td>\n",
              "      <td>E13</td>\n",
              "      <td>569</td>\n",
              "      <td>0</td>\n",
              "      <td>2016</td>\n",
              "      <td>5</td>\n",
              "      <td>Tuesday</td>\n",
              "      <td>19</td>\n",
              "      <td>NEW WASHINGTON ST</td>\n",
              "      <td>42.302333</td>\n",
              "      <td>-71.111565</td>\n",
              "    </tr>\n",
              "    <tr>\n",
              "      <th>319072</th>\n",
              "      <td>Warrant Arrests</td>\n",
              "      <td>WARRANT ARREST</td>\n",
              "      <td>D4</td>\n",
              "      <td>903</td>\n",
              "      <td>0</td>\n",
              "      <td>2015</td>\n",
              "      <td>6</td>\n",
              "      <td>Monday</td>\n",
              "      <td>0</td>\n",
              "      <td>WASHINGTON ST</td>\n",
              "      <td>42.333839</td>\n",
              "      <td>-71.080290</td>\n",
              "    </tr>\n",
              "  </tbody>\n",
              "</table>\n",
              "<p>319050 rows × 12 columns</p>\n",
              "</div>"
            ],
            "text/plain": [
              "          OFFENSE_CODE_GROUP  ...       Long\n",
              "0                    Larceny  ... -71.139371\n",
              "1                  Vandalism  ... -71.060300\n",
              "2                      Towed  ... -71.072429\n",
              "3       Investigate Property  ... -71.078664\n",
              "4       Investigate Property  ... -71.090361\n",
              "...                      ...  ...        ...\n",
              "319068       Warrant Arrests  ... -71.085748\n",
              "319069              Homicide  ... -71.123172\n",
              "319070       Warrant Arrests  ... -71.123172\n",
              "319071       Warrant Arrests  ... -71.111565\n",
              "319072       Warrant Arrests  ... -71.080290\n",
              "\n",
              "[319050 rows x 12 columns]"
            ]
          },
          "metadata": {
            "tags": []
          },
          "execution_count": 17
        }
      ]
    },
    {
      "cell_type": "code",
      "metadata": {
        "id": "NIaVblhRLmQ6",
        "colab": {
          "base_uri": "https://localhost:8080/"
        },
        "outputId": "7ab80247-e854-4d1a-d38c-70f4012121f8"
      },
      "source": [
        "#dropping rows with missing values  \n",
        "crimes = crimes.dropna(axis=0, how='any')\n",
        "crimes.isna().sum()"
      ],
      "execution_count": null,
      "outputs": [
        {
          "output_type": "execute_result",
          "data": {
            "text/plain": [
              "OFFENSE_CODE_GROUP     0\n",
              "OFFENSE_DESCRIPTION    0\n",
              "DISTRICT               0\n",
              "REPORTING_AREA         0\n",
              "SHOOTING               0\n",
              "YEAR                   0\n",
              "MONTH                  0\n",
              "DAY_OF_WEEK            0\n",
              "HOUR                   0\n",
              "STREET                 0\n",
              "Lat                    0\n",
              "Long                   0\n",
              "dtype: int64"
            ]
          },
          "metadata": {
            "tags": []
          },
          "execution_count": 5
        }
      ]
    },
    {
      "cell_type": "code",
      "metadata": {
        "id": "YQbfMcOmRiXN",
        "colab": {
          "base_uri": "https://localhost:8080/",
          "height": 221
        },
        "outputId": "88af65c3-29d6-4e97-8aab-213d93a81f4c"
      },
      "source": [
        "# OFFENSE_CODE_GROUP: maybe set all these values to capital letters because OFFENSE_DESCRIPTION\tis also in caps\n",
        "uppered_ocg = []\n",
        "for value in crimes['OFFENSE_CODE_GROUP']:\n",
        "  up= value.upper()\n",
        "  uppered_ocg.append(up)\n",
        "\n",
        "crimes['OFFENSE_CODE_GROUP'] = uppered_ocg\n",
        "display(crimes['OFFENSE_CODE_GROUP'])"
      ],
      "execution_count": null,
      "outputs": [
        {
          "output_type": "display_data",
          "data": {
            "text/plain": [
              "0                      LARCENY\n",
              "1                    VANDALISM\n",
              "2                        TOWED\n",
              "3         INVESTIGATE PROPERTY\n",
              "4         INVESTIGATE PROPERTY\n",
              "                  ...         \n",
              "319068         WARRANT ARRESTS\n",
              "319069                HOMICIDE\n",
              "319070         WARRANT ARRESTS\n",
              "319071         WARRANT ARRESTS\n",
              "319072         WARRANT ARRESTS\n",
              "Name: OFFENSE_CODE_GROUP, Length: 296641, dtype: object"
            ]
          },
          "metadata": {
            "tags": []
          }
        }
      ]
    },
    {
      "cell_type": "code",
      "metadata": {
        "id": "AalrHw9JFsib"
      },
      "source": [
        "# Transform the occurrence time of 'HOUR' to parts of the day (morning, noon, afternoon, evening, night) \n",
        "crimes['HOUR'].replace({1: 'Night',\n",
        "                      2: 'Night',\n",
        "                      3: 'Night',\n",
        "                      4: 'Night',\n",
        "                      5: 'Morning',\n",
        "                      6: 'Morning',\n",
        "                      7: 'Morning', \n",
        "                      8: 'Morning',\n",
        "                      9: 'Morning',\n",
        "                      10: 'Morning',\n",
        "                      11: 'Morning',\n",
        "                      12: 'Noon',\n",
        "                      13: 'Noon',\n",
        "                      14: 'Noon',\n",
        "                      15: 'Afternoon',\n",
        "                      16: 'Afternoon',\n",
        "                      17: 'Afternoon',\n",
        "                      18: 'Evening',\n",
        "                      19: 'Evening',\n",
        "                      20: 'Evening',\n",
        "                      21: 'Evening',\n",
        "                      22: 'Evening',\n",
        "                      23: 'Evening',\n",
        "                      0: 'Night',}, inplace=True)"
      ],
      "execution_count": null,
      "outputs": []
    },
    {
      "cell_type": "code",
      "metadata": {
        "id": "4cOt_JbgH59P",
        "colab": {
          "base_uri": "https://localhost:8080/"
        },
        "outputId": "f4bb568a-1325-4315-9da3-e5a1c0ff5fa4"
      },
      "source": [
        "crimes['HOUR'] "
      ],
      "execution_count": null,
      "outputs": [
        {
          "output_type": "execute_result",
          "data": {
            "text/plain": [
              "0              Noon\n",
              "1             Night\n",
              "2           Evening\n",
              "3           Evening\n",
              "4           Evening\n",
              "            ...    \n",
              "319068    Afternoon\n",
              "319069         Noon\n",
              "319070         Noon\n",
              "319071      Evening\n",
              "319072        Night\n",
              "Name: HOUR, Length: 296641, dtype: object"
            ]
          },
          "metadata": {
            "tags": []
          },
          "execution_count": 21
        }
      ]
    },
    {
      "cell_type": "code",
      "metadata": {
        "id": "DxddazNoCai1",
        "colab": {
          "base_uri": "https://localhost:8080/"
        },
        "outputId": "d62a0048-62d8-4cdc-bf48-76e8a9c02b73"
      },
      "source": [
        "# details and charachteristics of data columns:\n",
        "# number of non-null values per column and type of data in every column\n",
        "crimes.info()"
      ],
      "execution_count": null,
      "outputs": [
        {
          "output_type": "stream",
          "text": [
            "<class 'pandas.core.frame.DataFrame'>\n",
            "Int64Index: 296641 entries, 0 to 319072\n",
            "Data columns (total 12 columns):\n",
            " #   Column               Non-Null Count   Dtype  \n",
            "---  ------               --------------   -----  \n",
            " 0   OFFENSE_CODE_GROUP   296641 non-null  object \n",
            " 1   OFFENSE_DESCRIPTION  296641 non-null  object \n",
            " 2   DISTRICT             296641 non-null  object \n",
            " 3   REPORTING_AREA       296641 non-null  object \n",
            " 4   SHOOTING             296641 non-null  int64  \n",
            " 5   YEAR                 296641 non-null  int64  \n",
            " 6   MONTH                296641 non-null  int64  \n",
            " 7   DAY_OF_WEEK          296641 non-null  object \n",
            " 8   HOUR                 296641 non-null  object \n",
            " 9   STREET               296641 non-null  object \n",
            " 10  Lat                  296641 non-null  float64\n",
            " 11  Long                 296641 non-null  float64\n",
            "dtypes: float64(2), int64(3), object(7)\n",
            "memory usage: 29.4+ MB\n"
          ],
          "name": "stdout"
        }
      ]
    },
    {
      "cell_type": "code",
      "metadata": {
        "id": "IFrngKl1ICz4"
      },
      "source": [
        "# the list of columns below are integer value codes but they should not be \n",
        "# considered as numerical variables, so they are transformed to strings/objects\n",
        "\n",
        "transform_str_list = ['YEAR', 'MONTH'] # exclude shooting to make plots of int values for shooting\n",
        "\n",
        "crimes[transform_str_list] = crimes[transform_str_list].astype(str)"
      ],
      "execution_count": null,
      "outputs": []
    },
    {
      "cell_type": "code",
      "metadata": {
        "id": "X_BA5Rr7M-vZ",
        "colab": {
          "base_uri": "https://localhost:8080/"
        },
        "outputId": "30ac4c6b-d893-480b-b6e2-d89d54bbd035"
      },
      "source": [
        "crimes.info()"
      ],
      "execution_count": null,
      "outputs": [
        {
          "output_type": "stream",
          "text": [
            "<class 'pandas.core.frame.DataFrame'>\n",
            "Int64Index: 296641 entries, 0 to 319072\n",
            "Data columns (total 12 columns):\n",
            " #   Column               Non-Null Count   Dtype  \n",
            "---  ------               --------------   -----  \n",
            " 0   OFFENSE_CODE_GROUP   296641 non-null  object \n",
            " 1   OFFENSE_DESCRIPTION  296641 non-null  object \n",
            " 2   DISTRICT             296641 non-null  object \n",
            " 3   REPORTING_AREA       296641 non-null  object \n",
            " 4   SHOOTING             296641 non-null  int64  \n",
            " 5   YEAR                 296641 non-null  object \n",
            " 6   MONTH                296641 non-null  object \n",
            " 7   DAY_OF_WEEK          296641 non-null  object \n",
            " 8   HOUR                 296641 non-null  object \n",
            " 9   STREET               296641 non-null  object \n",
            " 10  Lat                  296641 non-null  float64\n",
            " 11  Long                 296641 non-null  float64\n",
            "dtypes: float64(2), int64(1), object(9)\n",
            "memory usage: 29.4+ MB\n"
          ],
          "name": "stdout"
        }
      ]
    },
    {
      "cell_type": "markdown",
      "metadata": {
        "id": "H8eQ5EI2S4gn"
      },
      "source": [
        "extract columns for preprocessing in seperate variables"
      ]
    },
    {
      "cell_type": "code",
      "metadata": {
        "id": "9hQgTE-JBLD2"
      },
      "source": [
        "#extract columns for preprocessing\n",
        "ocgroup = crimes['OFFENSE_CODE_GROUP']\n",
        "odescription = crimes['OFFENSE_DESCRIPTION']\n",
        "district = crimes['DISTRICT']\n",
        "reportingarea = crimes['REPORTING_AREA']\n",
        "shooting = crimes['SHOOTING']\n",
        "year = crimes['YEAR']\n",
        "month = crimes['MONTH']\n",
        "dayoftheweek = crimes['DAY_OF_WEEK']\n",
        "hour = crimes['HOUR']\n",
        "street = crimes['STREET'] # include back the Street variable and exclude the Lat and Long variable\n",
        "lat = crimes['Lat'] \n",
        "long = crimes['Long']"
      ],
      "execution_count": null,
      "outputs": []
    },
    {
      "cell_type": "code",
      "metadata": {
        "id": "RqyAno08hUZS",
        "colab": {
          "base_uri": "https://localhost:8080/"
        },
        "outputId": "98eef163-a060-4d00-fa34-9924e5c160a9"
      },
      "source": [
        "(crimes['SHOOTING']==1).sum() #783 met '1'\n",
        "# and now it says 571?\n",
        "# now 82???\n",
        "# now 1019 and i think this is the right amount"
      ],
      "execution_count": null,
      "outputs": [
        {
          "output_type": "execute_result",
          "data": {
            "text/plain": [
              "976"
            ]
          },
          "metadata": {
            "tags": []
          },
          "execution_count": 26
        }
      ]
    },
    {
      "cell_type": "code",
      "metadata": {
        "id": "m5QyRCPPg85w",
        "colab": {
          "base_uri": "https://localhost:8080/",
          "height": 34
        },
        "outputId": "8cbcf279-eade-4de0-a98b-a714c2cf67b6"
      },
      "source": [
        "display(shooting.iloc[4108]) # check if it has worked, yes"
      ],
      "execution_count": null,
      "outputs": [
        {
          "output_type": "display_data",
          "data": {
            "text/plain": [
              "0"
            ]
          },
          "metadata": {
            "tags": []
          }
        }
      ]
    },
    {
      "cell_type": "markdown",
      "metadata": {
        "id": "10PtTYUaDP44"
      },
      "source": [
        "DUMMY + SPLIT DATASET"
      ]
    },
    {
      "cell_type": "code",
      "metadata": {
        "id": "BnTXNDEwpOw6"
      },
      "source": [
        "# create dummy variables + indices of positive and negative instances: \n",
        "vandalism = [] #to store zeros and ones for vandalism\n",
        "vandalism1 = [] #to store positive vandalism instances\n",
        "vandalism0 = [] #to store negative vandalism instances\n",
        "for i in range(len(ocgroup)):\n",
        "  if ocgroup.iloc[i]==\"VANDALISM\": #check if vandalism\n",
        "    vandalism.append(1) #append 1 to vandalism list\n",
        "    vandalism1.append(i) #add index of instance to positive instances list\n",
        "  else:\n",
        "    vandalism.append(0) #append 0 to vandalism list\n",
        "    vandalism0.append(i) #add index of instance to negative instances list\n",
        "vandalism = pd.Series(vandalism) \n",
        "\n",
        "drugs = []\n",
        "drugs1 = []\n",
        "drugs0 = []\n",
        "for i in range(len(ocgroup)):\n",
        "  if ocgroup.iloc[i]==\"DRUG VIOLATION\":\n",
        "    drugs.append(1)\n",
        "    drugs1.append(i)\n",
        "  else:\n",
        "    drugs.append(0)\n",
        "    drugs0.append(i)\n",
        "drugs = pd.Series(drugs)\n",
        "\n",
        "motor = []\n",
        "motor1 =[]\n",
        "motor0 = []\n",
        "for i in range(len(ocgroup)):\n",
        "  if ocgroup.iloc[i]==\"MOTOR VEHICLE ACCIDENT RESPONSE\":\n",
        "    motor.append(1)\n",
        "    motor1.append(i)\n",
        "  else:\n",
        "    motor.append(0)\n",
        "    motor0.append(i)\n",
        "motor = pd.Series(motor)\n",
        "\n",
        "assault = []\n",
        "assault1 = []\n",
        "assault0 = [] \n",
        "for i in range(len(ocgroup)):\n",
        "  if ocgroup.iloc[i]==\"SIMPLE ASSAULT\":\n",
        "    assault.append(1)\n",
        "    assault1.append(i)\n",
        "  else:\n",
        "    assault.append(0)\n",
        "    assault0.append(i)\n",
        "assault = pd.Series(assault)"
      ],
      "execution_count": null,
      "outputs": []
    },
    {
      "cell_type": "code",
      "metadata": {
        "id": "vXA0U_1fBh1W"
      },
      "source": [
        "# create dependent variables with 10% positive and 90% negative instances\n",
        "import random\n",
        "\n",
        "randomassault1 = random.sample(range(1, len(assault1)), 1000) #1000 random instances from positive instances list (index)\n",
        "randomassault0 = random.sample(range(1, len(assault0)), 9000) #9000 random instances from negative instances list (index)\n",
        "assault_ = []\n",
        "for i in randomassault1:\n",
        "  assault_.append(assault[assault1[i]]) #assault1[i]: i-th index from positive list => assault[...]: correct instance\n",
        "for j in randomassault0:\n",
        "  assault_.append(assault[assault0[i]]) #assault0[i]: i-th index from negative list => assault[...]: correct instance\n",
        "assault_ = pd.Series(assault_)\n",
        "\n",
        "randomdrugs1 = random.sample(range(1, len(drugs1)), 1000)\n",
        "randomdrugs0 = random.sample(range(1, len(drugs0)), 9000)\n",
        "drugs_ = []\n",
        "for i in randomdrugs1:\n",
        "  drugs_.append(drugs[drugs1[i]])\n",
        "for j in randomdrugs0:\n",
        "  drugs_.append(drugs[drugs0[i]])\n",
        "drugs_ = pd.Series(drugs_)\n",
        "\n",
        "randommotor1 = random.sample(range(1, len(motor1)), 1000)\n",
        "randommotor0 = random.sample(range(1, len(motor0)), 9000)\n",
        "motor_ = []\n",
        "for i in randommotor1:\n",
        "  motor_.append(motor[motor1[i]])\n",
        "for j in randommotor0:\n",
        "  motor_.append(motor[motor0[i]])\n",
        "motor_ = pd.Series(motor_)\n",
        "\n",
        "randomvandalism1 = random.sample(range(1, len(vandalism1)), 1000)\n",
        "randomvandalism0 = random.sample(range(1, len(vandalism0)), 9000)\n",
        "vandalism_ = []\n",
        "for i in randomvandalism1:\n",
        "  vandalism_.append(vandalism[vandalism1[i]])\n",
        "for j in randomvandalism0:\n",
        "  vandalism_.append(vandalism[vandalism0[i]])\n",
        "vandalism_ = pd.Series(vandalism_)"
      ],
      "execution_count": null,
      "outputs": []
    },
    {
      "cell_type": "code",
      "metadata": {
        "id": "y9wu8VvbNYnV"
      },
      "source": [
        "# for vandalism: create independent variables according to balanced dependent variables\n",
        "district_v = []\n",
        "for i in randomvandalism1:\n",
        "  district_v.append(district.iloc[vandalism1[i]]) #vandalism1[i]: i-th index in positive list => district[...]: correct instance\n",
        "for j in randomvandalism0:\n",
        "  district_v.append(district.iloc[vandalism0[i]]) #vandalism0[i]: i-th index in negative list => district[...]: correct instance\n",
        "district_v = pd.Series(district_v)\n",
        "\n",
        "year_v = []\n",
        "for i in randomvandalism1:\n",
        "  year_v.append(year.iloc[vandalism1[i]])\n",
        "for j in randomvandalism0:\n",
        "  year_v.append(year.iloc[vandalism0[i]])\n",
        "year_v = pd.Series(year_v)\n",
        "\n",
        "month_v = []\n",
        "for i in randomvandalism1:\n",
        "  month_v.append(month.iloc[vandalism1[i]])\n",
        "for j in randomvandalism0:\n",
        "  month_v.append(month.iloc[vandalism0[i]])\n",
        "month_v = pd.Series(month_v)\n",
        "\n",
        "dayoftheweek_v = []\n",
        "for i in randomvandalism1:\n",
        "  dayoftheweek_v.append(dayoftheweek.iloc[vandalism1[i]])\n",
        "for j in randomvandalism0:\n",
        "  dayoftheweek_v.append(dayoftheweek.iloc[vandalism0[i]])\n",
        "dayoftheweek_v = pd.Series(dayoftheweek_v)\n",
        "\n",
        "hour_v = []\n",
        "for i in randomvandalism1:\n",
        "  hour_v.append(hour.iloc[vandalism1[i]])\n",
        "for j in randomvandalism0:\n",
        "  hour_v.append(hour.iloc[vandalism0[i]])\n",
        "hour_v = pd.Series(hour_v)"
      ],
      "execution_count": null,
      "outputs": []
    },
    {
      "cell_type": "code",
      "metadata": {
        "id": "g3BLFQ1kkylQ"
      },
      "source": [
        "# for drugs: create independent variables according to balanced dependent variables\n",
        "district_d = []\n",
        "for i in randomdrugs1:\n",
        "  district_d.append(district.iloc[drugs1[i]])\n",
        "for j in randomdrugs0:\n",
        "  district_d.append(district.iloc[drugs0[i]])\n",
        "district_d = pd.Series(district_d)\n",
        "\n",
        "year_d = []\n",
        "for i in randomdrugs1:\n",
        "  year_d.append(year.iloc[drugs1[i]])\n",
        "for j in randomdrugs0:\n",
        "  year_d.append(year.iloc[drugs0[i]])\n",
        "year_d = pd.Series(year_d)\n",
        "\n",
        "month_d = []\n",
        "for i in randomdrugs1:\n",
        "  month_d.append(month.iloc[drugs1[i]])\n",
        "for j in randomdrugs0:\n",
        "  month_d.append(month.iloc[drugs0[i]])\n",
        "month_d = pd.Series(month_d)\n",
        "\n",
        "dayoftheweek_d = []\n",
        "for i in randomdrugs1:\n",
        "  dayoftheweek_d.append(dayoftheweek.iloc[drugs1[i]])\n",
        "for j in randomdrugs0:\n",
        "  dayoftheweek_d.append(dayoftheweek.iloc[drugs0[i]])\n",
        "dayoftheweek_d = pd.Series(dayoftheweek_d)\n",
        "\n",
        "hour_d = []\n",
        "for i in randomdrugs1:\n",
        "  hour_d.append(hour.iloc[drugs1[i]])\n",
        "for j in randomdrugs0:\n",
        "  hour_d.append(hour.iloc[drugs0[i]])\n",
        "hour_d = pd.Series(hour_d)"
      ],
      "execution_count": null,
      "outputs": []
    },
    {
      "cell_type": "code",
      "metadata": {
        "id": "nSHA4-TqlWb7"
      },
      "source": [
        "# for assault: create independent variables according to balanced dependent variables\n",
        "district_a = []\n",
        "for i in randomassault1:\n",
        "  district_a.append(district.iloc[assault1[i]])\n",
        "for j in randomassault0:\n",
        "  district_a.append(district.iloc[assault0[i]])\n",
        "district_a = pd.Series(district_a)\n",
        "\n",
        "year_a = []\n",
        "for i in randomassault1:\n",
        "  year_a.append(year.iloc[assault1[i]])\n",
        "for j in randomassault0:\n",
        "  year_a.append(year.iloc[assault0[i]])\n",
        "year_a = pd.Series(year_a)\n",
        "\n",
        "month_a = []\n",
        "for i in randomassault1:\n",
        "  month_a.append(month.iloc[assault1[i]])\n",
        "for j in randomassault0:\n",
        "  month_a.append(month.iloc[assault0[i]])\n",
        "month_a = pd.Series(month_a)\n",
        "\n",
        "dayoftheweek_a = []\n",
        "for i in randomassault1:\n",
        "  dayoftheweek_a.append(dayoftheweek.iloc[assault1[i]])\n",
        "for j in randomassault0:\n",
        "  dayoftheweek_a.append(dayoftheweek.iloc[assault0[i]])\n",
        "dayoftheweek_a = pd.Series(dayoftheweek_a)\n",
        "\n",
        "hour_a = []\n",
        "for i in randomassault1:\n",
        "  hour_a.append(hour.iloc[assault1[i]])\n",
        "for j in randomassault0:\n",
        "  hour_a.append(hour.iloc[assault0[i]])\n",
        "hour_a = pd.Series(hour_a)"
      ],
      "execution_count": null,
      "outputs": []
    },
    {
      "cell_type": "code",
      "metadata": {
        "id": "pwjQCcOBlz87"
      },
      "source": [
        "# for motor: create independent variables according to balanced dependent variables\n",
        "district_m = []\n",
        "for i in randommotor1:\n",
        "  district_m.append(district.iloc[motor1[i]])\n",
        "for j in randommotor0:\n",
        "  district_m.append(district.iloc[motor0[i]])\n",
        "district_m = pd.Series(district_m)\n",
        "\n",
        "year_m = []\n",
        "for i in randommotor1:\n",
        "  year_m.append(year.iloc[motor1[i]])\n",
        "for j in randommotor0:\n",
        "  year_m.append(year.iloc[motor0[i]])\n",
        "year_m = pd.Series(year_m)\n",
        "\n",
        "month_m = []\n",
        "for i in randommotor1:\n",
        "  month_m.append(month.iloc[motor1[i]])\n",
        "for j in randommotor0:\n",
        "  month_m.append(month.iloc[motor0[i]])\n",
        "month_m = pd.Series(month_m)\n",
        "\n",
        "dayoftheweek_m = []\n",
        "for i in randommotor1:\n",
        "  dayoftheweek_m.append(dayoftheweek.iloc[motor1[i]])\n",
        "for j in randommotor0:\n",
        "  dayoftheweek_m.append(dayoftheweek.iloc[motor0[i]])\n",
        "dayoftheweek_m = pd.Series(dayoftheweek_m)\n",
        "\n",
        "hour_m = []\n",
        "for i in randommotor1:\n",
        "  hour_m.append(hour.iloc[motor1[i]])\n",
        "for j in randommotor0:\n",
        "  hour_m.append(hour.iloc[motor0[i]])\n",
        "hour_m = pd.Series(hour_m)"
      ],
      "execution_count": null,
      "outputs": []
    },
    {
      "cell_type": "code",
      "metadata": {
        "id": "9duQgQvho8MJ"
      },
      "source": [
        "# split the data set in train-test \n",
        "import numpy as np \n",
        "from sklearn.model_selection import train_test_split\n",
        "indices=np.arange(10000)\n",
        "indices_train, indices_test  = train_test_split(indices, test_size=0.20, random_state=0)\n",
        "indices_train, indices_val  = train_test_split(indices_train, test_size=0.20, random_state=0)"
      ],
      "execution_count": null,
      "outputs": []
    },
    {
      "cell_type": "code",
      "metadata": {
        "id": "Lpp9oKx0XP1H"
      },
      "source": [
        "# function for preprocessing discrete features\n",
        "from scipy import stats\n",
        "import pandas as pd\n",
        "import numpy as np\n",
        "\n",
        "def Preprocessing_discrete(Var, train_ind, Var_name):\n",
        "    Var_train=Var.iloc[train_ind]\n",
        "    Var_pre = Var.fillna(value = Var_train.mode().iloc[0]) #replace missing values by mode of training set\n",
        "    Var_preprocessed=pd.get_dummies(Var_pre,prefix= str(Var_name))\n",
        "    Categories=list(Var_preprocessed.columns.values) #show categories\n",
        "    #from a categorical variable with k categories, we only create k-1 dummy variables\n",
        "    Reference_Category = Categories[0]  #the dropped category becomes the reference category\n",
        "    Var_preprocessed = Var_preprocessed.iloc[:, 1:]\n",
        "    Categories = Categories[1:]\n",
        "    return (Var_preprocessed, Categories, Reference_Category)"
      ],
      "execution_count": null,
      "outputs": []
    },
    {
      "cell_type": "code",
      "metadata": {
        "id": "K03ik6NzXb74"
      },
      "source": [
        "# for vandalism: preprocessing discrete features \n",
        "Data_preprocessed_v=[]\n",
        "\n",
        "District_preprocessed = Preprocessing_discrete(district_v, indices_train, 'District')\n",
        "Data_preprocessed_v.append(District_preprocessed[0])\n",
        "\n",
        "Year_preprocessed = Preprocessing_discrete(year_v, indices_train, 'Year')\n",
        "Data_preprocessed_v.append(Year_preprocessed[0])\n",
        "\n",
        "Month_preprocessed = Preprocessing_discrete(month_v, indices_train, 'Month')\n",
        "Data_preprocessed_v.append(Month_preprocessed[0])\n",
        "\n",
        "Dayoftheweek_preprocessed = Preprocessing_discrete(dayoftheweek_v, indices_train, 'Dayoftheweek')\n",
        "Data_preprocessed_v.append(Dayoftheweek_preprocessed[0])\n",
        "\n",
        "Hour_preprocessed = Preprocessing_discrete(hour_v, indices_train, 'Hour')\n",
        "Data_preprocessed_v.append(Hour_preprocessed[0])\n",
        "\n",
        "Data_preprocessed_full_v= pd.concat(Data_preprocessed_v, axis=1)"
      ],
      "execution_count": null,
      "outputs": []
    },
    {
      "cell_type": "code",
      "metadata": {
        "id": "O9DwadJ7mZXN"
      },
      "source": [
        "# for drugs: preprocessing discrete features \n",
        "Data_preprocessed_d=[]\n",
        "\n",
        "District_preprocessed = Preprocessing_discrete(district_d, indices_train, 'District')\n",
        "Data_preprocessed_d.append(District_preprocessed[0])\n",
        "\n",
        "Year_preprocessed = Preprocessing_discrete(year_d, indices_train, 'Year')\n",
        "Data_preprocessed_d.append(Year_preprocessed[0])\n",
        "\n",
        "Month_preprocessed = Preprocessing_discrete(month_d, indices_train, 'Month')\n",
        "Data_preprocessed_d.append(Month_preprocessed[0])\n",
        "\n",
        "Dayoftheweek_preprocessed = Preprocessing_discrete(dayoftheweek_d, indices_train, 'Dayoftheweek')\n",
        "Data_preprocessed_d.append(Dayoftheweek_preprocessed[0])\n",
        "\n",
        "Hour_preprocessed = Preprocessing_discrete(hour_d, indices_train, 'Hour')\n",
        "Data_preprocessed_d.append(Hour_preprocessed[0])\n",
        "\n",
        "Data_preprocessed_full_d= pd.concat(Data_preprocessed_d, axis=1)"
      ],
      "execution_count": null,
      "outputs": []
    },
    {
      "cell_type": "code",
      "metadata": {
        "id": "hvU17S3mmaD4"
      },
      "source": [
        "# for assault: preprocessing discrete features \n",
        "Data_preprocessed_a=[]\n",
        "\n",
        "District_preprocessed = Preprocessing_discrete(district_a, indices_train, 'District')\n",
        "Data_preprocessed_a.append(District_preprocessed[0])\n",
        "\n",
        "Year_preprocessed = Preprocessing_discrete(year_a, indices_train, 'Year')\n",
        "Data_preprocessed_a.append(Year_preprocessed[0])\n",
        "\n",
        "Month_preprocessed = Preprocessing_discrete(month_a, indices_train, 'Month')\n",
        "Data_preprocessed_a.append(Month_preprocessed[0])\n",
        "\n",
        "Dayoftheweek_preprocessed = Preprocessing_discrete(dayoftheweek_a, indices_train, 'Dayoftheweek')\n",
        "Data_preprocessed_a.append(Dayoftheweek_preprocessed[0])\n",
        "\n",
        "Hour_preprocessed = Preprocessing_discrete(hour_a, indices_train, 'Hour')\n",
        "Data_preprocessed_a.append(Hour_preprocessed[0])\n",
        "\n",
        "Data_preprocessed_full_a= pd.concat(Data_preprocessed_a, axis=1)"
      ],
      "execution_count": null,
      "outputs": []
    },
    {
      "cell_type": "code",
      "metadata": {
        "id": "5M5e7dwOmasx"
      },
      "source": [
        "# for motor: preprocessing discrete features \n",
        "Data_preprocessed_m=[]\n",
        "\n",
        "District_preprocessed = Preprocessing_discrete(district_m, indices_train, 'District')\n",
        "Data_preprocessed_m.append(District_preprocessed[0])\n",
        "\n",
        "Year_preprocessed = Preprocessing_discrete(year_m, indices_train, 'Year')\n",
        "Data_preprocessed_m.append(Year_preprocessed[0])\n",
        "\n",
        "Month_preprocessed = Preprocessing_discrete(month_m, indices_train, 'Month')\n",
        "Data_preprocessed_m.append(Month_preprocessed[0])\n",
        "\n",
        "Dayoftheweek_preprocessed = Preprocessing_discrete(dayoftheweek_m, indices_train, 'Dayoftheweek')\n",
        "Data_preprocessed_m.append(Dayoftheweek_preprocessed[0])\n",
        "\n",
        "Hour_preprocessed = Preprocessing_discrete(hour_m, indices_train, 'Hour')\n",
        "Data_preprocessed_m.append(Hour_preprocessed[0])\n",
        "\n",
        "Data_preprocessed_full_m= pd.concat(Data_preprocessed_m, axis=1)"
      ],
      "execution_count": null,
      "outputs": []
    },
    {
      "cell_type": "markdown",
      "metadata": {
        "id": "TRlyKspVrzmL"
      },
      "source": [
        "# **2. EXPLORATORY ANALYSIS**\n"
      ]
    },
    {
      "cell_type": "markdown",
      "metadata": {
        "id": "U1nef3REr3m4"
      },
      "source": [
        "suggestions:\n",
        "* What are the most common crimes for each district?\n",
        "* Transform the occurrence time to parts of the day\n",
        "(morning, afternoon, evening, night) --> already done at preprocessing step\n",
        "*Which crimes have a growing trend? Which ones are\n",
        "decreasing? "
      ]
    },
    {
      "cell_type": "markdown",
      "metadata": {
        "id": "dPU0gjDHDBfT"
      },
      "source": [
        "SOME STATISTICS"
      ]
    },
    {
      "cell_type": "code",
      "metadata": {
        "colab": {
          "base_uri": "https://localhost:8080/",
          "height": 187
        },
        "id": "7i6lnNDHCs1S",
        "outputId": "b91b3383-696a-4163-999f-e52a3e20554a"
      },
      "source": [
        "# compute the mode for all variables\n",
        "\n",
        "#crimes['DAY_OF_WEEK'].mode()\n",
        "display(dayoftheweek.mode())  # Friday\n",
        "display(month.mode()) # 8 = augustus\n",
        "display(hour.mode()) # 17 o clock\n",
        "display(ocgroup.mode())\n",
        "display(odescription.mode())\n",
        "\n",
        "# ... \n",
        "\n",
        "# compute 'unique()' of some variables to see number of unique elements\n",
        "# and then 'value_counts()' to see for each unique element how much times it appears"
      ],
      "execution_count": null,
      "outputs": [
        {
          "output_type": "display_data",
          "data": {
            "text/plain": [
              "0    Friday\n",
              "dtype: object"
            ]
          },
          "metadata": {
            "tags": []
          }
        },
        {
          "output_type": "display_data",
          "data": {
            "text/plain": [
              "0    8\n",
              "dtype: object"
            ]
          },
          "metadata": {
            "tags": []
          }
        },
        {
          "output_type": "display_data",
          "data": {
            "text/plain": [
              "0    Evening\n",
              "dtype: object"
            ]
          },
          "metadata": {
            "tags": []
          }
        },
        {
          "output_type": "display_data",
          "data": {
            "text/plain": [
              "0    MOTOR VEHICLE ACCIDENT RESPONSE\n",
              "dtype: object"
            ]
          },
          "metadata": {
            "tags": []
          }
        },
        {
          "output_type": "display_data",
          "data": {
            "text/plain": [
              "0    INVESTIGATE PERSON\n",
              "dtype: object"
            ]
          },
          "metadata": {
            "tags": []
          }
        }
      ]
    },
    {
      "cell_type": "code",
      "metadata": {
        "colab": {
          "base_uri": "https://localhost:8080/",
          "height": 97
        },
        "id": "1hOqEoVOCtIU",
        "outputId": "b09990ab-7953-4787-c770-8708d12aaf82"
      },
      "source": [
        "# compute the mode for all variables\n",
        "crimes.mode(axis=0)"
      ],
      "execution_count": null,
      "outputs": [
        {
          "output_type": "execute_result",
          "data": {
            "text/html": [
              "<div>\n",
              "<style scoped>\n",
              "    .dataframe tbody tr th:only-of-type {\n",
              "        vertical-align: middle;\n",
              "    }\n",
              "\n",
              "    .dataframe tbody tr th {\n",
              "        vertical-align: top;\n",
              "    }\n",
              "\n",
              "    .dataframe thead th {\n",
              "        text-align: right;\n",
              "    }\n",
              "</style>\n",
              "<table border=\"1\" class=\"dataframe\">\n",
              "  <thead>\n",
              "    <tr style=\"text-align: right;\">\n",
              "      <th></th>\n",
              "      <th>OFFENSE_CODE_GROUP</th>\n",
              "      <th>OFFENSE_DESCRIPTION</th>\n",
              "      <th>DISTRICT</th>\n",
              "      <th>REPORTING_AREA</th>\n",
              "      <th>SHOOTING</th>\n",
              "      <th>YEAR</th>\n",
              "      <th>MONTH</th>\n",
              "      <th>DAY_OF_WEEK</th>\n",
              "      <th>HOUR</th>\n",
              "      <th>STREET</th>\n",
              "      <th>Lat</th>\n",
              "      <th>Long</th>\n",
              "    </tr>\n",
              "  </thead>\n",
              "  <tbody>\n",
              "    <tr>\n",
              "      <th>0</th>\n",
              "      <td>MOTOR VEHICLE ACCIDENT RESPONSE</td>\n",
              "      <td>INVESTIGATE PERSON</td>\n",
              "      <td>B2</td>\n",
              "      <td>111</td>\n",
              "      <td>0</td>\n",
              "      <td>2017</td>\n",
              "      <td>8</td>\n",
              "      <td>Friday</td>\n",
              "      <td>Evening</td>\n",
              "      <td>WASHINGTON ST</td>\n",
              "      <td>42.348624</td>\n",
              "      <td>-71.082776</td>\n",
              "    </tr>\n",
              "  </tbody>\n",
              "</table>\n",
              "</div>"
            ],
            "text/plain": [
              "                OFFENSE_CODE_GROUP OFFENSE_DESCRIPTION  ...        Lat       Long\n",
              "0  MOTOR VEHICLE ACCIDENT RESPONSE  INVESTIGATE PERSON  ...  42.348624 -71.082776\n",
              "\n",
              "[1 rows x 12 columns]"
            ]
          },
          "metadata": {
            "tags": []
          },
          "execution_count": 28
        }
      ]
    },
    {
      "cell_type": "code",
      "metadata": {
        "colab": {
          "base_uri": "https://localhost:8080/",
          "height": 421
        },
        "id": "7yARolrACtgO",
        "outputId": "f4795673-d841-4cc1-c204-8e9ae43422e5"
      },
      "source": [
        "# compute some statistics for the variables (mean etc. not useful because whe have no real numerical variables)\n",
        "crimes.describe(include='all').T # for all"
      ],
      "execution_count": null,
      "outputs": [
        {
          "output_type": "execute_result",
          "data": {
            "text/html": [
              "<div>\n",
              "<style scoped>\n",
              "    .dataframe tbody tr th:only-of-type {\n",
              "        vertical-align: middle;\n",
              "    }\n",
              "\n",
              "    .dataframe tbody tr th {\n",
              "        vertical-align: top;\n",
              "    }\n",
              "\n",
              "    .dataframe thead th {\n",
              "        text-align: right;\n",
              "    }\n",
              "</style>\n",
              "<table border=\"1\" class=\"dataframe\">\n",
              "  <thead>\n",
              "    <tr style=\"text-align: right;\">\n",
              "      <th></th>\n",
              "      <th>count</th>\n",
              "      <th>unique</th>\n",
              "      <th>top</th>\n",
              "      <th>freq</th>\n",
              "      <th>mean</th>\n",
              "      <th>std</th>\n",
              "      <th>min</th>\n",
              "      <th>25%</th>\n",
              "      <th>50%</th>\n",
              "      <th>75%</th>\n",
              "      <th>max</th>\n",
              "    </tr>\n",
              "  </thead>\n",
              "  <tbody>\n",
              "    <tr>\n",
              "      <th>OFFENSE_CODE_GROUP</th>\n",
              "      <td>296641</td>\n",
              "      <td>66</td>\n",
              "      <td>MOTOR VEHICLE ACCIDENT RESPONSE</td>\n",
              "      <td>30385</td>\n",
              "      <td>NaN</td>\n",
              "      <td>NaN</td>\n",
              "      <td>NaN</td>\n",
              "      <td>NaN</td>\n",
              "      <td>NaN</td>\n",
              "      <td>NaN</td>\n",
              "      <td>NaN</td>\n",
              "    </tr>\n",
              "    <tr>\n",
              "      <th>OFFENSE_DESCRIPTION</th>\n",
              "      <td>296641</td>\n",
              "      <td>239</td>\n",
              "      <td>INVESTIGATE PERSON</td>\n",
              "      <td>17976</td>\n",
              "      <td>NaN</td>\n",
              "      <td>NaN</td>\n",
              "      <td>NaN</td>\n",
              "      <td>NaN</td>\n",
              "      <td>NaN</td>\n",
              "      <td>NaN</td>\n",
              "      <td>NaN</td>\n",
              "    </tr>\n",
              "    <tr>\n",
              "      <th>DISTRICT</th>\n",
              "      <td>296641</td>\n",
              "      <td>12</td>\n",
              "      <td>B2</td>\n",
              "      <td>46035</td>\n",
              "      <td>NaN</td>\n",
              "      <td>NaN</td>\n",
              "      <td>NaN</td>\n",
              "      <td>NaN</td>\n",
              "      <td>NaN</td>\n",
              "      <td>NaN</td>\n",
              "      <td>NaN</td>\n",
              "    </tr>\n",
              "    <tr>\n",
              "      <th>REPORTING_AREA</th>\n",
              "      <td>296641</td>\n",
              "      <td>879</td>\n",
              "      <td>111</td>\n",
              "      <td>2338</td>\n",
              "      <td>NaN</td>\n",
              "      <td>NaN</td>\n",
              "      <td>NaN</td>\n",
              "      <td>NaN</td>\n",
              "      <td>NaN</td>\n",
              "      <td>NaN</td>\n",
              "      <td>NaN</td>\n",
              "    </tr>\n",
              "    <tr>\n",
              "      <th>SHOOTING</th>\n",
              "      <td>296641</td>\n",
              "      <td>NaN</td>\n",
              "      <td>NaN</td>\n",
              "      <td>NaN</td>\n",
              "      <td>0.00329017</td>\n",
              "      <td>0.0572657</td>\n",
              "      <td>0</td>\n",
              "      <td>0</td>\n",
              "      <td>0</td>\n",
              "      <td>0</td>\n",
              "      <td>1</td>\n",
              "    </tr>\n",
              "    <tr>\n",
              "      <th>YEAR</th>\n",
              "      <td>296641</td>\n",
              "      <td>4</td>\n",
              "      <td>2017</td>\n",
              "      <td>93134</td>\n",
              "      <td>NaN</td>\n",
              "      <td>NaN</td>\n",
              "      <td>NaN</td>\n",
              "      <td>NaN</td>\n",
              "      <td>NaN</td>\n",
              "      <td>NaN</td>\n",
              "      <td>NaN</td>\n",
              "    </tr>\n",
              "    <tr>\n",
              "      <th>MONTH</th>\n",
              "      <td>296641</td>\n",
              "      <td>12</td>\n",
              "      <td>8</td>\n",
              "      <td>32211</td>\n",
              "      <td>NaN</td>\n",
              "      <td>NaN</td>\n",
              "      <td>NaN</td>\n",
              "      <td>NaN</td>\n",
              "      <td>NaN</td>\n",
              "      <td>NaN</td>\n",
              "      <td>NaN</td>\n",
              "    </tr>\n",
              "    <tr>\n",
              "      <th>DAY_OF_WEEK</th>\n",
              "      <td>296641</td>\n",
              "      <td>7</td>\n",
              "      <td>Friday</td>\n",
              "      <td>45137</td>\n",
              "      <td>NaN</td>\n",
              "      <td>NaN</td>\n",
              "      <td>NaN</td>\n",
              "      <td>NaN</td>\n",
              "      <td>NaN</td>\n",
              "      <td>NaN</td>\n",
              "      <td>NaN</td>\n",
              "    </tr>\n",
              "    <tr>\n",
              "      <th>HOUR</th>\n",
              "      <td>296641</td>\n",
              "      <td>5</td>\n",
              "      <td>Evening</td>\n",
              "      <td>84809</td>\n",
              "      <td>NaN</td>\n",
              "      <td>NaN</td>\n",
              "      <td>NaN</td>\n",
              "      <td>NaN</td>\n",
              "      <td>NaN</td>\n",
              "      <td>NaN</td>\n",
              "      <td>NaN</td>\n",
              "    </tr>\n",
              "    <tr>\n",
              "      <th>STREET</th>\n",
              "      <td>296641</td>\n",
              "      <td>3872</td>\n",
              "      <td>WASHINGTON ST</td>\n",
              "      <td>14110</td>\n",
              "      <td>NaN</td>\n",
              "      <td>NaN</td>\n",
              "      <td>NaN</td>\n",
              "      <td>NaN</td>\n",
              "      <td>NaN</td>\n",
              "      <td>NaN</td>\n",
              "      <td>NaN</td>\n",
              "    </tr>\n",
              "    <tr>\n",
              "      <th>Lat</th>\n",
              "      <td>296641</td>\n",
              "      <td>NaN</td>\n",
              "      <td>NaN</td>\n",
              "      <td>NaN</td>\n",
              "      <td>42.3001</td>\n",
              "      <td>0.980927</td>\n",
              "      <td>-1</td>\n",
              "      <td>42.2975</td>\n",
              "      <td>42.3256</td>\n",
              "      <td>42.3486</td>\n",
              "      <td>42.395</td>\n",
              "    </tr>\n",
              "    <tr>\n",
              "      <th>Long</th>\n",
              "      <td>296641</td>\n",
              "      <td>NaN</td>\n",
              "      <td>NaN</td>\n",
              "      <td>NaN</td>\n",
              "      <td>-71.047</td>\n",
              "      <td>1.5863</td>\n",
              "      <td>-71.1787</td>\n",
              "      <td>-71.0972</td>\n",
              "      <td>-71.0776</td>\n",
              "      <td>-71.0625</td>\n",
              "      <td>-1</td>\n",
              "    </tr>\n",
              "  </tbody>\n",
              "</table>\n",
              "</div>"
            ],
            "text/plain": [
              "                      count unique  ...      75%     max\n",
              "OFFENSE_CODE_GROUP   296641     66  ...      NaN     NaN\n",
              "OFFENSE_DESCRIPTION  296641    239  ...      NaN     NaN\n",
              "DISTRICT             296641     12  ...      NaN     NaN\n",
              "REPORTING_AREA       296641    879  ...      NaN     NaN\n",
              "SHOOTING             296641    NaN  ...        0       1\n",
              "YEAR                 296641      4  ...      NaN     NaN\n",
              "MONTH                296641     12  ...      NaN     NaN\n",
              "DAY_OF_WEEK          296641      7  ...      NaN     NaN\n",
              "HOUR                 296641      5  ...      NaN     NaN\n",
              "STREET               296641   3872  ...      NaN     NaN\n",
              "Lat                  296641    NaN  ...  42.3486  42.395\n",
              "Long                 296641    NaN  ... -71.0625      -1\n",
              "\n",
              "[12 rows x 11 columns]"
            ]
          },
          "metadata": {
            "tags": []
          },
          "execution_count": 29
        }
      ]
    },
    {
      "cell_type": "markdown",
      "metadata": {
        "id": "0FTO4wf3C-fr"
      },
      "source": [
        "NOW SOME VISUALISATIONS\n"
      ]
    },
    {
      "cell_type": "code",
      "metadata": {
        "id": "CembHiilcOvx",
        "colab": {
          "base_uri": "https://localhost:8080/"
        },
        "outputId": "dd7cd41a-b5b5-40b6-ab95-90e94fc02bab"
      },
      "source": [
        "pip install matplotlib"
      ],
      "execution_count": null,
      "outputs": [
        {
          "output_type": "stream",
          "text": [
            "Requirement already satisfied: matplotlib in /usr/local/lib/python3.7/dist-packages (3.2.2)\n",
            "Requirement already satisfied: cycler>=0.10 in /usr/local/lib/python3.7/dist-packages (from matplotlib) (0.10.0)\n",
            "Requirement already satisfied: kiwisolver>=1.0.1 in /usr/local/lib/python3.7/dist-packages (from matplotlib) (1.3.1)\n",
            "Requirement already satisfied: numpy>=1.11 in /usr/local/lib/python3.7/dist-packages (from matplotlib) (1.19.5)\n",
            "Requirement already satisfied: python-dateutil>=2.1 in /usr/local/lib/python3.7/dist-packages (from matplotlib) (2.8.1)\n",
            "Requirement already satisfied: pyparsing!=2.0.4,!=2.1.2,!=2.1.6,>=2.0.1 in /usr/local/lib/python3.7/dist-packages (from matplotlib) (2.4.7)\n",
            "Requirement already satisfied: six in /usr/local/lib/python3.7/dist-packages (from cycler>=0.10->matplotlib) (1.15.0)\n"
          ],
          "name": "stdout"
        }
      ]
    },
    {
      "cell_type": "code",
      "metadata": {
        "id": "M1geywpGcTGa"
      },
      "source": [
        "import matplotlib.pyplot as plt\n",
        "import seaborn as sns"
      ],
      "execution_count": null,
      "outputs": []
    },
    {
      "cell_type": "code",
      "metadata": {
        "id": "AS0RrRxssKAN",
        "colab": {
          "base_uri": "https://localhost:8080/",
          "height": 561
        },
        "outputId": "3e4e9899-e2a7-4dbb-9dce-b0e2fdf22136"
      },
      "source": [
        "#per district how many crimes are reported?\n",
        "crimes_group_distr= crimes.groupby(by='DISTRICT')['OFFENSE_CODE_GROUP'].count()\n",
        "crimes_group_distr= crimes_group_distr.sort_values(ascending= False) # sorted from high to low\n",
        "display(crimes_group_distr)\n",
        "crimes_group_distr.plot.bar()\n",
        "plt.ylabel('N° of incidents')\n",
        "plt.title('Number of incidents per district')\n",
        "plt.legend()\n",
        "# so in district B2 there are the most amount of crimes reported \n"
      ],
      "execution_count": null,
      "outputs": [
        {
          "output_type": "display_data",
          "data": {
            "text/plain": [
              "DISTRICT\n",
              "B2     46035\n",
              "C11    40720\n",
              "D4     38233\n",
              "B3     33682\n",
              "A1     32073\n",
              "C6     21678\n",
              "D14    19105\n",
              "E18    16622\n",
              "E13    16516\n",
              "A7     13015\n",
              "E5     12793\n",
              "A15     6169\n",
              "Name: OFFENSE_CODE_GROUP, dtype: int64"
            ]
          },
          "metadata": {
            "tags": []
          }
        },
        {
          "output_type": "execute_result",
          "data": {
            "text/plain": [
              "<matplotlib.legend.Legend at 0x7f41aba832d0>"
            ]
          },
          "metadata": {
            "tags": []
          },
          "execution_count": 32
        },
        {
          "output_type": "display_data",
          "data": {
            "image/png": "[encoded data removed]",
            "text/plain": [
              "<Figure size 432x288 with 1 Axes>"
            ]
          },
          "metadata": {
            "tags": [],
            "needs_background": "light"
          }
        }
      ]
    },
    {
      "cell_type": "code",
      "metadata": {
        "id": "clt2pa_x3gG5",
        "colab": {
          "base_uri": "https://localhost:8080/",
          "height": 506
        },
        "outputId": "69e1118c-8dc5-41c1-d179-0eff15556f3f"
      },
      "source": [
        "#per district (group by) what is the most common OFFENSE_CODE_GROUP (crime code group) and month, day and hour\n",
        "\n",
        "crimes_group_distr2= crimes.groupby(by='DISTRICT')['OFFENSE_CODE_GROUP','YEAR','MONTH','DAY_OF_WEEK','HOUR'].agg(pd.Series.mode) #agg(pd.Series.mode) or apply(lambda x: x.mode())\n",
        "#crimes_group_distr= crimes_group_distr.sort_values(ascending= False)\n",
        "display(crimes_group_distr2)\n",
        "#crimes_group_distr.plot.bar()\n",
        "\n",
        "# ==> almost every district has 'Motor Vehicle Accident Response' as most occcuring \n"
      ],
      "execution_count": null,
      "outputs": [
        {
          "output_type": "stream",
          "text": [
            "/usr/local/lib/python3.7/dist-packages/ipykernel_launcher.py:3: FutureWarning: Indexing with multiple keys (implicitly converted to a tuple of keys) will be deprecated, use a list instead.\n",
            "  This is separate from the ipykernel package so we can avoid doing imports until\n"
          ],
          "name": "stderr"
        },
        {
          "output_type": "display_data",
          "data": {
            "text/html": [
              "<div>\n",
              "<style scoped>\n",
              "    .dataframe tbody tr th:only-of-type {\n",
              "        vertical-align: middle;\n",
              "    }\n",
              "\n",
              "    .dataframe tbody tr th {\n",
              "        vertical-align: top;\n",
              "    }\n",
              "\n",
              "    .dataframe thead th {\n",
              "        text-align: right;\n",
              "    }\n",
              "</style>\n",
              "<table border=\"1\" class=\"dataframe\">\n",
              "  <thead>\n",
              "    <tr style=\"text-align: right;\">\n",
              "      <th></th>\n",
              "      <th>OFFENSE_CODE_GROUP</th>\n",
              "      <th>YEAR</th>\n",
              "      <th>MONTH</th>\n",
              "      <th>DAY_OF_WEEK</th>\n",
              "      <th>HOUR</th>\n",
              "    </tr>\n",
              "    <tr>\n",
              "      <th>DISTRICT</th>\n",
              "      <th></th>\n",
              "      <th></th>\n",
              "      <th></th>\n",
              "      <th></th>\n",
              "      <th></th>\n",
              "    </tr>\n",
              "  </thead>\n",
              "  <tbody>\n",
              "    <tr>\n",
              "      <th>A1</th>\n",
              "      <td>LARCENY</td>\n",
              "      <td>2017</td>\n",
              "      <td>8</td>\n",
              "      <td>Saturday</td>\n",
              "      <td>Evening</td>\n",
              "    </tr>\n",
              "    <tr>\n",
              "      <th>A15</th>\n",
              "      <td>MOTOR VEHICLE ACCIDENT RESPONSE</td>\n",
              "      <td>2017</td>\n",
              "      <td>8</td>\n",
              "      <td>Wednesday</td>\n",
              "      <td>Morning</td>\n",
              "    </tr>\n",
              "    <tr>\n",
              "      <th>A7</th>\n",
              "      <td>MOTOR VEHICLE ACCIDENT RESPONSE</td>\n",
              "      <td>2017</td>\n",
              "      <td>8</td>\n",
              "      <td>Friday</td>\n",
              "      <td>Evening</td>\n",
              "    </tr>\n",
              "    <tr>\n",
              "      <th>B2</th>\n",
              "      <td>MOTOR VEHICLE ACCIDENT RESPONSE</td>\n",
              "      <td>2017</td>\n",
              "      <td>7</td>\n",
              "      <td>Thursday</td>\n",
              "      <td>Evening</td>\n",
              "    </tr>\n",
              "    <tr>\n",
              "      <th>B3</th>\n",
              "      <td>MOTOR VEHICLE ACCIDENT RESPONSE</td>\n",
              "      <td>2017</td>\n",
              "      <td>8</td>\n",
              "      <td>Monday</td>\n",
              "      <td>Evening</td>\n",
              "    </tr>\n",
              "    <tr>\n",
              "      <th>C11</th>\n",
              "      <td>MOTOR VEHICLE ACCIDENT RESPONSE</td>\n",
              "      <td>2016</td>\n",
              "      <td>7</td>\n",
              "      <td>Tuesday</td>\n",
              "      <td>Evening</td>\n",
              "    </tr>\n",
              "    <tr>\n",
              "      <th>C6</th>\n",
              "      <td>MOTOR VEHICLE ACCIDENT RESPONSE</td>\n",
              "      <td>2017</td>\n",
              "      <td>8</td>\n",
              "      <td>Friday</td>\n",
              "      <td>Evening</td>\n",
              "    </tr>\n",
              "    <tr>\n",
              "      <th>D14</th>\n",
              "      <td>MOTOR VEHICLE ACCIDENT RESPONSE</td>\n",
              "      <td>2017</td>\n",
              "      <td>8</td>\n",
              "      <td>Friday</td>\n",
              "      <td>Evening</td>\n",
              "    </tr>\n",
              "    <tr>\n",
              "      <th>D4</th>\n",
              "      <td>LARCENY</td>\n",
              "      <td>2017</td>\n",
              "      <td>7</td>\n",
              "      <td>Friday</td>\n",
              "      <td>Evening</td>\n",
              "    </tr>\n",
              "    <tr>\n",
              "      <th>E13</th>\n",
              "      <td>MOTOR VEHICLE ACCIDENT RESPONSE</td>\n",
              "      <td>2016</td>\n",
              "      <td>7</td>\n",
              "      <td>Friday</td>\n",
              "      <td>Evening</td>\n",
              "    </tr>\n",
              "    <tr>\n",
              "      <th>E18</th>\n",
              "      <td>MOTOR VEHICLE ACCIDENT RESPONSE</td>\n",
              "      <td>2017</td>\n",
              "      <td>7</td>\n",
              "      <td>Friday</td>\n",
              "      <td>Evening</td>\n",
              "    </tr>\n",
              "    <tr>\n",
              "      <th>E5</th>\n",
              "      <td>MOTOR VEHICLE ACCIDENT RESPONSE</td>\n",
              "      <td>2017</td>\n",
              "      <td>8</td>\n",
              "      <td>Tuesday</td>\n",
              "      <td>Morning</td>\n",
              "    </tr>\n",
              "  </tbody>\n",
              "</table>\n",
              "</div>"
            ],
            "text/plain": [
              "                       OFFENSE_CODE_GROUP  YEAR MONTH DAY_OF_WEEK     HOUR\n",
              "DISTRICT                                                                  \n",
              "A1                                LARCENY  2017     8    Saturday  Evening\n",
              "A15       MOTOR VEHICLE ACCIDENT RESPONSE  2017     8   Wednesday  Morning\n",
              "A7        MOTOR VEHICLE ACCIDENT RESPONSE  2017     8      Friday  Evening\n",
              "B2        MOTOR VEHICLE ACCIDENT RESPONSE  2017     7    Thursday  Evening\n",
              "B3        MOTOR VEHICLE ACCIDENT RESPONSE  2017     8      Monday  Evening\n",
              "C11       MOTOR VEHICLE ACCIDENT RESPONSE  2016     7     Tuesday  Evening\n",
              "C6        MOTOR VEHICLE ACCIDENT RESPONSE  2017     8      Friday  Evening\n",
              "D14       MOTOR VEHICLE ACCIDENT RESPONSE  2017     8      Friday  Evening\n",
              "D4                                LARCENY  2017     7      Friday  Evening\n",
              "E13       MOTOR VEHICLE ACCIDENT RESPONSE  2016     7      Friday  Evening\n",
              "E18       MOTOR VEHICLE ACCIDENT RESPONSE  2017     7      Friday  Evening\n",
              "E5        MOTOR VEHICLE ACCIDENT RESPONSE  2017     8     Tuesday  Morning"
            ]
          },
          "metadata": {
            "tags": []
          }
        }
      ]
    },
    {
      "cell_type": "code",
      "metadata": {
        "id": "8hkesZ2s7a-Z",
        "colab": {
          "base_uri": "https://localhost:8080/",
          "height": 506
        },
        "outputId": "aef700d1-c4ab-41b6-cf91-83a1c641f148"
      },
      "source": [
        "#per district (group by) what is the most common OFFENSE_DESCRIPTION (crime description)\n",
        "crimes_group_distr3= crimes.groupby(by='DISTRICT')['OFFENSE_DESCRIPTION', 'MONTH', 'DAY_OF_WEEK', 'HOUR'].agg(pd.Series.mode)\n",
        "display(crimes_group_distr3)\n",
        "\n",
        "# different than OFFENCE_CODE_GROUP"
      ],
      "execution_count": null,
      "outputs": [
        {
          "output_type": "stream",
          "text": [
            "/usr/local/lib/python3.7/dist-packages/ipykernel_launcher.py:2: FutureWarning: Indexing with multiple keys (implicitly converted to a tuple of keys) will be deprecated, use a list instead.\n",
            "  \n"
          ],
          "name": "stderr"
        },
        {
          "output_type": "display_data",
          "data": {
            "text/html": [
              "<div>\n",
              "<style scoped>\n",
              "    .dataframe tbody tr th:only-of-type {\n",
              "        vertical-align: middle;\n",
              "    }\n",
              "\n",
              "    .dataframe tbody tr th {\n",
              "        vertical-align: top;\n",
              "    }\n",
              "\n",
              "    .dataframe thead th {\n",
              "        text-align: right;\n",
              "    }\n",
              "</style>\n",
              "<table border=\"1\" class=\"dataframe\">\n",
              "  <thead>\n",
              "    <tr style=\"text-align: right;\">\n",
              "      <th></th>\n",
              "      <th>OFFENSE_DESCRIPTION</th>\n",
              "      <th>MONTH</th>\n",
              "      <th>DAY_OF_WEEK</th>\n",
              "      <th>HOUR</th>\n",
              "    </tr>\n",
              "    <tr>\n",
              "      <th>DISTRICT</th>\n",
              "      <th></th>\n",
              "      <th></th>\n",
              "      <th></th>\n",
              "      <th></th>\n",
              "    </tr>\n",
              "  </thead>\n",
              "  <tbody>\n",
              "    <tr>\n",
              "      <th>A1</th>\n",
              "      <td>ASSAULT SIMPLE - BATTERY</td>\n",
              "      <td>8</td>\n",
              "      <td>Saturday</td>\n",
              "      <td>Evening</td>\n",
              "    </tr>\n",
              "    <tr>\n",
              "      <th>A15</th>\n",
              "      <td>INVESTIGATE PERSON</td>\n",
              "      <td>8</td>\n",
              "      <td>Wednesday</td>\n",
              "      <td>Morning</td>\n",
              "    </tr>\n",
              "    <tr>\n",
              "      <th>A7</th>\n",
              "      <td>SICK/INJURED/MEDICAL - PERSON</td>\n",
              "      <td>8</td>\n",
              "      <td>Friday</td>\n",
              "      <td>Evening</td>\n",
              "    </tr>\n",
              "    <tr>\n",
              "      <th>B2</th>\n",
              "      <td>VERBAL DISPUTE</td>\n",
              "      <td>7</td>\n",
              "      <td>Thursday</td>\n",
              "      <td>Evening</td>\n",
              "    </tr>\n",
              "    <tr>\n",
              "      <th>B3</th>\n",
              "      <td>VERBAL DISPUTE</td>\n",
              "      <td>8</td>\n",
              "      <td>Monday</td>\n",
              "      <td>Evening</td>\n",
              "    </tr>\n",
              "    <tr>\n",
              "      <th>C11</th>\n",
              "      <td>INVESTIGATE PERSON</td>\n",
              "      <td>7</td>\n",
              "      <td>Tuesday</td>\n",
              "      <td>Evening</td>\n",
              "    </tr>\n",
              "    <tr>\n",
              "      <th>C6</th>\n",
              "      <td>SICK/INJURED/MEDICAL - PERSON</td>\n",
              "      <td>8</td>\n",
              "      <td>Friday</td>\n",
              "      <td>Evening</td>\n",
              "    </tr>\n",
              "    <tr>\n",
              "      <th>D14</th>\n",
              "      <td>TOWED MOTOR VEHICLE</td>\n",
              "      <td>8</td>\n",
              "      <td>Friday</td>\n",
              "      <td>Evening</td>\n",
              "    </tr>\n",
              "    <tr>\n",
              "      <th>D4</th>\n",
              "      <td>LARCENY SHOPLIFTING</td>\n",
              "      <td>7</td>\n",
              "      <td>Friday</td>\n",
              "      <td>Evening</td>\n",
              "    </tr>\n",
              "    <tr>\n",
              "      <th>E13</th>\n",
              "      <td>SICK/INJURED/MEDICAL - PERSON</td>\n",
              "      <td>7</td>\n",
              "      <td>Friday</td>\n",
              "      <td>Evening</td>\n",
              "    </tr>\n",
              "    <tr>\n",
              "      <th>E18</th>\n",
              "      <td>SICK/INJURED/MEDICAL - PERSON</td>\n",
              "      <td>7</td>\n",
              "      <td>Friday</td>\n",
              "      <td>Evening</td>\n",
              "    </tr>\n",
              "    <tr>\n",
              "      <th>E5</th>\n",
              "      <td>SICK/INJURED/MEDICAL - PERSON</td>\n",
              "      <td>8</td>\n",
              "      <td>Tuesday</td>\n",
              "      <td>Morning</td>\n",
              "    </tr>\n",
              "  </tbody>\n",
              "</table>\n",
              "</div>"
            ],
            "text/plain": [
              "                    OFFENSE_DESCRIPTION MONTH DAY_OF_WEEK     HOUR\n",
              "DISTRICT                                                          \n",
              "A1             ASSAULT SIMPLE - BATTERY     8    Saturday  Evening\n",
              "A15                  INVESTIGATE PERSON     8   Wednesday  Morning\n",
              "A7        SICK/INJURED/MEDICAL - PERSON     8      Friday  Evening\n",
              "B2                       VERBAL DISPUTE     7    Thursday  Evening\n",
              "B3                       VERBAL DISPUTE     8      Monday  Evening\n",
              "C11                  INVESTIGATE PERSON     7     Tuesday  Evening\n",
              "C6        SICK/INJURED/MEDICAL - PERSON     8      Friday  Evening\n",
              "D14                 TOWED MOTOR VEHICLE     8      Friday  Evening\n",
              "D4                  LARCENY SHOPLIFTING     7      Friday  Evening\n",
              "E13       SICK/INJURED/MEDICAL - PERSON     7      Friday  Evening\n",
              "E18       SICK/INJURED/MEDICAL - PERSON     7      Friday  Evening\n",
              "E5        SICK/INJURED/MEDICAL - PERSON     8     Tuesday  Morning"
            ]
          },
          "metadata": {
            "tags": []
          }
        }
      ]
    },
    {
      "cell_type": "code",
      "metadata": {
        "id": "EQoGCuLysKUF",
        "colab": {
          "base_uri": "https://localhost:8080/",
          "height": 506
        },
        "outputId": "b408c62d-b558-4f2b-e8e3-a2e63475a27b"
      },
      "source": [
        "# per district (group by) what is the most common  month, day, hour,  \n",
        "crimes_group_distr4= crimes.groupby(by='DISTRICT')['MONTH', 'DAY_OF_WEEK', 'HOUR', 'YEAR'].agg(pd.Series.mode)\n",
        "display(crimes_group_distr4)"
      ],
      "execution_count": null,
      "outputs": [
        {
          "output_type": "stream",
          "text": [
            "/usr/local/lib/python3.7/dist-packages/ipykernel_launcher.py:2: FutureWarning: Indexing with multiple keys (implicitly converted to a tuple of keys) will be deprecated, use a list instead.\n",
            "  \n"
          ],
          "name": "stderr"
        },
        {
          "output_type": "display_data",
          "data": {
            "text/html": [
              "<div>\n",
              "<style scoped>\n",
              "    .dataframe tbody tr th:only-of-type {\n",
              "        vertical-align: middle;\n",
              "    }\n",
              "\n",
              "    .dataframe tbody tr th {\n",
              "        vertical-align: top;\n",
              "    }\n",
              "\n",
              "    .dataframe thead th {\n",
              "        text-align: right;\n",
              "    }\n",
              "</style>\n",
              "<table border=\"1\" class=\"dataframe\">\n",
              "  <thead>\n",
              "    <tr style=\"text-align: right;\">\n",
              "      <th></th>\n",
              "      <th>MONTH</th>\n",
              "      <th>DAY_OF_WEEK</th>\n",
              "      <th>HOUR</th>\n",
              "      <th>YEAR</th>\n",
              "    </tr>\n",
              "    <tr>\n",
              "      <th>DISTRICT</th>\n",
              "      <th></th>\n",
              "      <th></th>\n",
              "      <th></th>\n",
              "      <th></th>\n",
              "    </tr>\n",
              "  </thead>\n",
              "  <tbody>\n",
              "    <tr>\n",
              "      <th>A1</th>\n",
              "      <td>8</td>\n",
              "      <td>Saturday</td>\n",
              "      <td>Evening</td>\n",
              "      <td>2017</td>\n",
              "    </tr>\n",
              "    <tr>\n",
              "      <th>A15</th>\n",
              "      <td>8</td>\n",
              "      <td>Wednesday</td>\n",
              "      <td>Morning</td>\n",
              "      <td>2017</td>\n",
              "    </tr>\n",
              "    <tr>\n",
              "      <th>A7</th>\n",
              "      <td>8</td>\n",
              "      <td>Friday</td>\n",
              "      <td>Evening</td>\n",
              "      <td>2017</td>\n",
              "    </tr>\n",
              "    <tr>\n",
              "      <th>B2</th>\n",
              "      <td>7</td>\n",
              "      <td>Thursday</td>\n",
              "      <td>Evening</td>\n",
              "      <td>2017</td>\n",
              "    </tr>\n",
              "    <tr>\n",
              "      <th>B3</th>\n",
              "      <td>8</td>\n",
              "      <td>Monday</td>\n",
              "      <td>Evening</td>\n",
              "      <td>2017</td>\n",
              "    </tr>\n",
              "    <tr>\n",
              "      <th>C11</th>\n",
              "      <td>7</td>\n",
              "      <td>Tuesday</td>\n",
              "      <td>Evening</td>\n",
              "      <td>2016</td>\n",
              "    </tr>\n",
              "    <tr>\n",
              "      <th>C6</th>\n",
              "      <td>8</td>\n",
              "      <td>Friday</td>\n",
              "      <td>Evening</td>\n",
              "      <td>2017</td>\n",
              "    </tr>\n",
              "    <tr>\n",
              "      <th>D14</th>\n",
              "      <td>8</td>\n",
              "      <td>Friday</td>\n",
              "      <td>Evening</td>\n",
              "      <td>2017</td>\n",
              "    </tr>\n",
              "    <tr>\n",
              "      <th>D4</th>\n",
              "      <td>7</td>\n",
              "      <td>Friday</td>\n",
              "      <td>Evening</td>\n",
              "      <td>2017</td>\n",
              "    </tr>\n",
              "    <tr>\n",
              "      <th>E13</th>\n",
              "      <td>7</td>\n",
              "      <td>Friday</td>\n",
              "      <td>Evening</td>\n",
              "      <td>2016</td>\n",
              "    </tr>\n",
              "    <tr>\n",
              "      <th>E18</th>\n",
              "      <td>7</td>\n",
              "      <td>Friday</td>\n",
              "      <td>Evening</td>\n",
              "      <td>2017</td>\n",
              "    </tr>\n",
              "    <tr>\n",
              "      <th>E5</th>\n",
              "      <td>8</td>\n",
              "      <td>Tuesday</td>\n",
              "      <td>Morning</td>\n",
              "      <td>2017</td>\n",
              "    </tr>\n",
              "  </tbody>\n",
              "</table>\n",
              "</div>"
            ],
            "text/plain": [
              "         MONTH DAY_OF_WEEK     HOUR  YEAR\n",
              "DISTRICT                                 \n",
              "A1           8    Saturday  Evening  2017\n",
              "A15          8   Wednesday  Morning  2017\n",
              "A7           8      Friday  Evening  2017\n",
              "B2           7    Thursday  Evening  2017\n",
              "B3           8      Monday  Evening  2017\n",
              "C11          7     Tuesday  Evening  2016\n",
              "C6           8      Friday  Evening  2017\n",
              "D14          8      Friday  Evening  2017\n",
              "D4           7      Friday  Evening  2017\n",
              "E13          7      Friday  Evening  2016\n",
              "E18          7      Friday  Evening  2017\n",
              "E5           8     Tuesday  Morning  2017"
            ]
          },
          "metadata": {
            "tags": []
          }
        }
      ]
    },
    {
      "cell_type": "code",
      "metadata": {
        "id": "dZM3bwXQj4Ec",
        "colab": {
          "base_uri": "https://localhost:8080/"
        },
        "outputId": "fc691a79-e51f-48d5-ae4d-b58ac92ed5ce"
      },
      "source": [
        "(crimes['SHOOTING']==1).sum() # 1019 \n",
        "#976 after removing duplicates and rows with missing values "
      ],
      "execution_count": null,
      "outputs": [
        {
          "output_type": "execute_result",
          "data": {
            "text/plain": [
              "976"
            ]
          },
          "metadata": {
            "tags": []
          },
          "execution_count": 120
        }
      ]
    },
    {
      "cell_type": "markdown",
      "metadata": {
        "id": "noWePKOuDddl"
      },
      "source": [
        "plotting the coordinates"
      ]
    },
    {
      "cell_type": "code",
      "metadata": {
        "id": "FhKAQLUswoec"
      },
      "source": [
        "# delete rows where coordinates are -1\n",
        "lat_ = []\n",
        "for i in range(len(lat)):\n",
        "  if lat.iloc[i]!=-1:\n",
        "    lat_.append(lat.iloc[i])\n",
        "len(lat_)\n",
        "\n",
        "long_ = []\n",
        "for i in range(len(long)):\n",
        "  if long.iloc[i]!=-1:\n",
        "    long_.append(long.iloc[i])\n",
        "len(long_)"
      ],
      "execution_count": null,
      "outputs": []
    },
    {
      "cell_type": "code",
      "metadata": {
        "id": "RjV9kc6MBMzA",
        "colab": {
          "base_uri": "https://localhost:8080/",
          "height": 295
        },
        "outputId": "aa49f986-f79a-46fe-a742-5142e5955983"
      },
      "source": [
        "# plot coordinates\n",
        "import matplotlib.pyplot as plt\n",
        "import numpy as np\n",
        "\n",
        "x = long_[0:1000]\n",
        "y = lat_[0:1000]\n",
        "fig = plt.figure()\n",
        "ax = fig.add_subplot(111)\n",
        "ax.scatter(x,y, color='r',marker='.')\n",
        "plt.show\n",
        "plt.title('Coordinates of incidents in Boston')\n",
        "plt.xlabel('Longitude')\n",
        "plt.ylabel('Latitude')\n",
        "\n",
        "plt.savefig('coordinates.png')\n"
      ],
      "execution_count": null,
      "outputs": [
        {
          "output_type": "display_data",
          "data": {
            "image/png": "[encoded data removed]",
            "text/plain": [
              "<Figure size 432x288 with 1 Axes>"
            ]
          },
          "metadata": {
            "tags": [],
            "needs_background": "light"
          }
        }
      ]
    },
    {
      "cell_type": "markdown",
      "metadata": {
        "id": "PYuqCuzyDg_T"
      },
      "source": [
        "plotting the other variables\n"
      ]
    },
    {
      "cell_type": "code",
      "metadata": {
        "id": "kiyfvcJg8Lo_",
        "colab": {
          "base_uri": "https://localhost:8080/",
          "height": 295
        },
        "outputId": "df45ec23-9922-49e8-dbd4-8a290807be96"
      },
      "source": [
        "# bar chart hour\n",
        "import matplotlib.pyplot as plt\n",
        "import numpy as np\n",
        "\n",
        "hour_counts = []\n",
        "for h in range(0,24):\n",
        "  hour_counts.append(hour[hour==h].count())\n",
        "hour_counts\n",
        "\n",
        "plt.bar(range(0,24), hour_counts, align='center', alpha=0.5)\n",
        "plt.ylabel('N° of incidents')\n",
        "plt.ylim((2500,22000))\n",
        "plt.xlabel('Hour')\n",
        "plt.title('Number of incidents per hour')\n",
        "\n",
        "plt.show()"
      ],
      "execution_count": null,
      "outputs": [
        {
          "output_type": "display_data",
          "data": {
            "image/png": "[encoded data removed]",
            "text/plain": [
              "<Figure size 432x288 with 1 Axes>"
            ]
          },
          "metadata": {
            "tags": [],
            "needs_background": "light"
          }
        }
      ]
    },
    {
      "cell_type": "code",
      "metadata": {
        "colab": {
          "base_uri": "https://localhost:8080/",
          "height": 329
        },
        "id": "HJER_yuJAQuZ",
        "outputId": "cae4d39b-9b1f-4f42-c2b0-0b0e58cab0dd"
      },
      "source": [
        "# alternative with parts of day instead of hours  \n",
        "sns.countplot(x='HOUR',data=crimes )\n",
        "plt.title(\"Count of crimes per part in the day\")\n",
        "plt.ylabel('N° of incidents')\n",
        "plt.legend()\n"
      ],
      "execution_count": null,
      "outputs": [
        {
          "output_type": "stream",
          "text": [
            "No handles with labels found to put in legend.\n"
          ],
          "name": "stderr"
        },
        {
          "output_type": "execute_result",
          "data": {
            "text/plain": [
              "<matplotlib.legend.Legend at 0x7fa75d394890>"
            ]
          },
          "metadata": {
            "tags": []
          },
          "execution_count": 39
        },
        {
          "output_type": "display_data",
          "data": {
            "image/png": "[encoded data removed]",
            "text/plain": [
              "<Figure size 432x288 with 1 Axes>"
            ]
          },
          "metadata": {
            "tags": [],
            "needs_background": "light"
          }
        }
      ]
    },
    {
      "cell_type": "code",
      "metadata": {
        "colab": {
          "base_uri": "https://localhost:8080/",
          "height": 295
        },
        "id": "Xd5kTi4D2NDi",
        "outputId": "c3d1aaf6-d0e8-47cd-8e59-d0e40b104d4b"
      },
      "source": [
        "# bar chart day \n",
        "import matplotlib.pyplot as plt\n",
        "import numpy as np\n",
        "\n",
        "days = ['Monday', 'Tuesday', 'Wednesday', 'Thursday', 'Friday', 'Saturday', 'Sunday']\n",
        "ds = ['Mon', 'Tue', 'Wed', 'Thu', 'Fri', 'Sat', 'Sun']\n",
        "day_counts = []\n",
        "for d in days:\n",
        "  day_counts.append(dayoftheweek[dayoftheweek==d].count())\n",
        "day_counts\n",
        "\n",
        "plt.bar(range(0,7), day_counts, align='center', alpha=0.5)\n",
        "plt.ylabel('N° of incidents')\n",
        "plt.ylim((36000,46000))\n",
        "plt.xticks(range(0,7),ds)\n",
        "plt.xlabel('Day of the week')\n",
        "plt.title('Number of incidents per day')\n",
        "\n",
        "plt.show()"
      ],
      "execution_count": null,
      "outputs": [
        {
          "output_type": "display_data",
          "data": {
            "image/png": "[encoded data removed]",
            "text/plain": [
              "<Figure size 432x288 with 1 Axes>"
            ]
          },
          "metadata": {
            "tags": [],
            "needs_background": "light"
          }
        }
      ]
    },
    {
      "cell_type": "code",
      "metadata": {
        "colab": {
          "base_uri": "https://localhost:8080/",
          "height": 312
        },
        "id": "zJvK7dBE8_YM",
        "outputId": "a5005b57-3a8e-4145-8903-ea35d8095c48"
      },
      "source": [
        "# barchart SHOOTING\n",
        "sns.countplot(x='SHOOTING',data=crimes )\n",
        "plt.title(\"Count of crimes reported as Shooting\")"
      ],
      "execution_count": null,
      "outputs": [
        {
          "output_type": "execute_result",
          "data": {
            "text/plain": [
              "Text(0.5, 1.0, 'Count of crimes reported as Shooting')"
            ]
          },
          "metadata": {
            "tags": []
          },
          "execution_count": 126
        },
        {
          "output_type": "display_data",
          "data": {
            "image/png": "[encoded data removed]",
            "text/plain": [
              "<Figure size 432x288 with 1 Axes>"
            ]
          },
          "metadata": {
            "tags": [],
            "needs_background": "light"
          }
        }
      ]
    },
    {
      "cell_type": "code",
      "metadata": {
        "colab": {
          "base_uri": "https://localhost:8080/",
          "height": 312
        },
        "id": "ABXvTVr__n--",
        "outputId": "64fa20ef-7fe1-416f-c247-0536869c7a59"
      },
      "source": [
        "# barchart month\n",
        "sns.countplot(x='MONTH',data=crimes )\n",
        "plt.title(\"Count of crimes per month\")"
      ],
      "execution_count": null,
      "outputs": [
        {
          "output_type": "execute_result",
          "data": {
            "text/plain": [
              "Text(0.5, 1.0, 'Count of crimes per month')"
            ]
          },
          "metadata": {
            "tags": []
          },
          "execution_count": 43
        },
        {
          "output_type": "display_data",
          "data": {
            "image/png": "[encoded data removed]",
            "text/plain": [
              "<Figure size 432x288 with 1 Axes>"
            ]
          },
          "metadata": {
            "tags": [],
            "needs_background": "light"
          }
        }
      ]
    },
    {
      "cell_type": "code",
      "metadata": {
        "colab": {
          "base_uri": "https://localhost:8080/",
          "height": 312
        },
        "id": "kC2wS3JV_8vN",
        "outputId": "82e330e2-76df-433c-d024-8964a25327ed"
      },
      "source": [
        "# barchart year\n",
        "sns.countplot(x='YEAR',data=crimes )\n",
        "plt.title(\"Count of crimes per year\")"
      ],
      "execution_count": null,
      "outputs": [
        {
          "output_type": "execute_result",
          "data": {
            "text/plain": [
              "Text(0.5, 1.0, 'Count of crimes per year')"
            ]
          },
          "metadata": {
            "tags": []
          },
          "execution_count": 44
        },
        {
          "output_type": "display_data",
          "data": {
            "image/png": "[encoded data removed]",
            "text/plain": [
              "<Figure size 432x288 with 1 Axes>"
            ]
          },
          "metadata": {
            "tags": [],
            "needs_background": "light"
          }
        }
      ]
    },
    {
      "cell_type": "code",
      "metadata": {
        "id": "AS6M3MESUFa-"
      },
      "source": [
        "from google.colab import drive\n",
        "drive.mount('/content/drive')"
      ],
      "execution_count": null,
      "outputs": []
    },
    {
      "cell_type": "code",
      "metadata": {
        "colab": {
          "base_uri": "https://localhost:8080/",
          "height": 696
        },
        "id": "cQco522PAV5v",
        "outputId": "0c3720ef-a51e-4f87-f9b0-a130d4dbcd6d"
      },
      "source": [
        "#Boston crimes bar chart\n",
        "offenses = pd.DataFrame(columns = ['OFFENSE_CODE_GROUP'])\n",
        "offenses['OFFENSE_CODE_GROUP'] = [each for each in crimes.OFFENSE_CODE_GROUP.unique()]\n",
        "offenses['Count']=[len(crimes[crimes.OFFENSE_CODE_GROUP==each]) for each in offenses.OFFENSE_CODE_GROUP]\n",
        "offenses=offenses.sort_values(by=['Count'],ascending=False)\n",
        "\n",
        "plt.figure(figsize=(20,10))\n",
        "sns.barplot(x=offenses.OFFENSE_CODE_GROUP.head(50), y=offenses.Count.head(50))\n",
        "plt.xticks(rotation= 90)\n",
        "plt.xlabel('OFFENSE_CODE_GROUP')\n",
        "plt.ylabel('N° of incidents')\n",
        "plt.title('Number of incidents per crime category')\n",
        "plt.show()"
      ],
      "execution_count": null,
      "outputs": [
        {
          "output_type": "display_data",
          "data": {
            "image/png": "[encoded data removed]",
            "text/plain": [
              "<Figure size 1440x720 with 1 Axes>"
            ]
          },
          "metadata": {
            "tags": [],
            "needs_background": "light"
          }
        }
      ]
    },
    {
      "cell_type": "code",
      "metadata": {
        "id": "ofDV8u9d7pOd",
        "colab": {
          "base_uri": "https://localhost:8080/",
          "height": 491
        },
        "outputId": "53e64b92-e4ac-4f75-959f-66f1b706fe74"
      },
      "source": [
        "# bar chart major crimes in Boston\n",
        "plt.figure(figsize=(20,10))\n",
        "sns.barplot(y=offenses.OFFENSE_CODE_GROUP.head(10), x=offenses.Count.head(10))\n",
        "plt.xticks(rotation= 90)\n",
        "plt.ylabel('OFFENSE_CODE_GROUP')\n",
        "plt.xlabel('N° of incidents')\n",
        "plt.title('Top 10 crimes in Boston')\n",
        "plt.show()\n"
      ],
      "execution_count": null,
      "outputs": [
        {
          "output_type": "display_data",
          "data": {
            "image/png": "[encoded data removed]",
            "text/plain": [
              "<Figure size 1440x720 with 1 Axes>"
            ]
          },
          "metadata": {
            "tags": [],
            "needs_background": "light"
          }
        }
      ]
    },
    {
      "cell_type": "code",
      "metadata": {
        "id": "cvGEKDaV-vfU",
        "colab": {
          "base_uri": "https://localhost:8080/",
          "height": 886
        },
        "outputId": "b7a82f15-512f-4ae9-e8cd-5a7a5bd31a0d"
      },
      "source": [
        "#pie chart of criminalized districts\n",
        "import random\n",
        "districts = pd.DataFrame(columns = ['DISTRICT'])\n",
        "districts['DISTRICT'] = [each for each in crimes.DISTRICT.unique()]\n",
        "districts['Count']=[len(crimes[crimes.DISTRICT==each]) for each in districts.DISTRICT]\n",
        "districts=districts.sort_values(by=['Count'], ascending=False)\n",
        "plt.figure(figsize=(8,8))\n",
        "colours = ['#D7BDE2', '#6C3483', '#A9CCE3', '#EB984E', '#F9E79F', '#52BE80', '#F1948A', '#C0392B', '#F5B041', '#CCD1D1', '#A9DFBF', '#ABB2B9'] \n",
        "plt.pie(districts['Count'], labels=districts['DISTRICT'], autopct='%1.1f%%', colors=colours)\n",
        "plt.title('District crime rate')\n",
        "plt.show()\n",
        "districts"
      ],
      "execution_count": null,
      "outputs": [
        {
          "output_type": "display_data",
          "data": {
            "image/png": "[encoded data removed]",
            "text/plain": [
              "<Figure size 576x576 with 1 Axes>"
            ]
          },
          "metadata": {
            "tags": []
          }
        },
        {
          "output_type": "execute_result",
          "data": {
            "text/html": [
              "<div>\n",
              "<style scoped>\n",
              "    .dataframe tbody tr th:only-of-type {\n",
              "        vertical-align: middle;\n",
              "    }\n",
              "\n",
              "    .dataframe tbody tr th {\n",
              "        vertical-align: top;\n",
              "    }\n",
              "\n",
              "    .dataframe thead th {\n",
              "        text-align: right;\n",
              "    }\n",
              "</style>\n",
              "<table border=\"1\" class=\"dataframe\">\n",
              "  <thead>\n",
              "    <tr style=\"text-align: right;\">\n",
              "      <th></th>\n",
              "      <th>DISTRICT</th>\n",
              "      <th>Count</th>\n",
              "    </tr>\n",
              "  </thead>\n",
              "  <tbody>\n",
              "    <tr>\n",
              "      <th>4</th>\n",
              "      <td>B2</td>\n",
              "      <td>46035</td>\n",
              "    </tr>\n",
              "    <tr>\n",
              "      <th>1</th>\n",
              "      <td>C11</td>\n",
              "      <td>40720</td>\n",
              "    </tr>\n",
              "    <tr>\n",
              "      <th>2</th>\n",
              "      <td>D4</td>\n",
              "      <td>38233</td>\n",
              "    </tr>\n",
              "    <tr>\n",
              "      <th>3</th>\n",
              "      <td>B3</td>\n",
              "      <td>33682</td>\n",
              "    </tr>\n",
              "    <tr>\n",
              "      <th>6</th>\n",
              "      <td>A1</td>\n",
              "      <td>32073</td>\n",
              "    </tr>\n",
              "    <tr>\n",
              "      <th>5</th>\n",
              "      <td>C6</td>\n",
              "      <td>21678</td>\n",
              "    </tr>\n",
              "    <tr>\n",
              "      <th>0</th>\n",
              "      <td>D14</td>\n",
              "      <td>19105</td>\n",
              "    </tr>\n",
              "    <tr>\n",
              "      <th>10</th>\n",
              "      <td>E18</td>\n",
              "      <td>16622</td>\n",
              "    </tr>\n",
              "    <tr>\n",
              "      <th>9</th>\n",
              "      <td>E13</td>\n",
              "      <td>16516</td>\n",
              "    </tr>\n",
              "    <tr>\n",
              "      <th>8</th>\n",
              "      <td>A7</td>\n",
              "      <td>13015</td>\n",
              "    </tr>\n",
              "    <tr>\n",
              "      <th>7</th>\n",
              "      <td>E5</td>\n",
              "      <td>12793</td>\n",
              "    </tr>\n",
              "    <tr>\n",
              "      <th>11</th>\n",
              "      <td>A15</td>\n",
              "      <td>6169</td>\n",
              "    </tr>\n",
              "  </tbody>\n",
              "</table>\n",
              "</div>"
            ],
            "text/plain": [
              "   DISTRICT  Count\n",
              "4        B2  46035\n",
              "1       C11  40720\n",
              "2        D4  38233\n",
              "3        B3  33682\n",
              "6        A1  32073\n",
              "5        C6  21678\n",
              "0       D14  19105\n",
              "10      E18  16622\n",
              "9       E13  16516\n",
              "8        A7  13015\n",
              "7        E5  12793\n",
              "11      A15   6169"
            ]
          },
          "metadata": {
            "tags": []
          },
          "execution_count": 25
        }
      ]
    },
    {
      "cell_type": "code",
      "metadata": {
        "colab": {
          "base_uri": "https://localhost:8080/",
          "height": 450
        },
        "id": "d8QylW8q5kuC",
        "outputId": "2e493be6-050e-4af6-c748-dd53ac0dbef8"
      },
      "source": [
        "df = pd.DataFrame({\"offense_code_group\":crimes['OFFENSE_CODE_GROUP'], \n",
        "       \"year\":crimes['YEAR'],\n",
        "       \"count\":np.ones(len(year))})\n",
        "table = pd.pivot_table(df, index=['offense_code_group'], columns=['year'], values= 'count', aggfunc= np.sum, fill_value=0)\n",
        "table"
      ],
      "execution_count": null,
      "outputs": [
        {
          "output_type": "execute_result",
          "data": {
            "text/html": [
              "<div>\n",
              "<style scoped>\n",
              "    .dataframe tbody tr th:only-of-type {\n",
              "        vertical-align: middle;\n",
              "    }\n",
              "\n",
              "    .dataframe tbody tr th {\n",
              "        vertical-align: top;\n",
              "    }\n",
              "\n",
              "    .dataframe thead th {\n",
              "        text-align: right;\n",
              "    }\n",
              "</style>\n",
              "<table border=\"1\" class=\"dataframe\">\n",
              "  <thead>\n",
              "    <tr style=\"text-align: right;\">\n",
              "      <th>year</th>\n",
              "      <th>2015</th>\n",
              "      <th>2016</th>\n",
              "      <th>2017</th>\n",
              "      <th>2018</th>\n",
              "    </tr>\n",
              "    <tr>\n",
              "      <th>offense_code_group</th>\n",
              "      <th></th>\n",
              "      <th></th>\n",
              "      <th></th>\n",
              "      <th></th>\n",
              "    </tr>\n",
              "  </thead>\n",
              "  <tbody>\n",
              "    <tr>\n",
              "      <th>AGGRAVATED ASSAULT</th>\n",
              "      <td>1318</td>\n",
              "      <td>2156</td>\n",
              "      <td>2227</td>\n",
              "      <td>1518</td>\n",
              "    </tr>\n",
              "    <tr>\n",
              "      <th>AIRCRAFT</th>\n",
              "      <td>4</td>\n",
              "      <td>4</td>\n",
              "      <td>17</td>\n",
              "      <td>5</td>\n",
              "    </tr>\n",
              "    <tr>\n",
              "      <th>ARSON</th>\n",
              "      <td>11</td>\n",
              "      <td>33</td>\n",
              "      <td>31</td>\n",
              "      <td>16</td>\n",
              "    </tr>\n",
              "    <tr>\n",
              "      <th>ASSEMBLY OR GATHERING VIOLATIONS</th>\n",
              "      <td>236</td>\n",
              "      <td>312</td>\n",
              "      <td>232</td>\n",
              "      <td>131</td>\n",
              "    </tr>\n",
              "    <tr>\n",
              "      <th>AUTO THEFT</th>\n",
              "      <td>934</td>\n",
              "      <td>1400</td>\n",
              "      <td>1305</td>\n",
              "      <td>861</td>\n",
              "    </tr>\n",
              "    <tr>\n",
              "      <th>...</th>\n",
              "      <td>...</td>\n",
              "      <td>...</td>\n",
              "      <td>...</td>\n",
              "      <td>...</td>\n",
              "    </tr>\n",
              "    <tr>\n",
              "      <th>TOWED</th>\n",
              "      <td>1539</td>\n",
              "      <td>3061</td>\n",
              "      <td>3731</td>\n",
              "      <td>2405</td>\n",
              "    </tr>\n",
              "    <tr>\n",
              "      <th>VANDALISM</th>\n",
              "      <td>2662</td>\n",
              "      <td>4845</td>\n",
              "      <td>4647</td>\n",
              "      <td>2691</td>\n",
              "    </tr>\n",
              "    <tr>\n",
              "      <th>VERBAL DISPUTES</th>\n",
              "      <td>1502</td>\n",
              "      <td>4044</td>\n",
              "      <td>4387</td>\n",
              "      <td>3014</td>\n",
              "    </tr>\n",
              "    <tr>\n",
              "      <th>VIOLATIONS</th>\n",
              "      <td>1215</td>\n",
              "      <td>1528</td>\n",
              "      <td>1295</td>\n",
              "      <td>963</td>\n",
              "    </tr>\n",
              "    <tr>\n",
              "      <th>WARRANT ARRESTS</th>\n",
              "      <td>1224</td>\n",
              "      <td>2524</td>\n",
              "      <td>2721</td>\n",
              "      <td>1040</td>\n",
              "    </tr>\n",
              "  </tbody>\n",
              "</table>\n",
              "<p>66 rows × 4 columns</p>\n",
              "</div>"
            ],
            "text/plain": [
              "year                              2015  2016  2017  2018\n",
              "offense_code_group                                      \n",
              "AGGRAVATED ASSAULT                1318  2156  2227  1518\n",
              "AIRCRAFT                             4     4    17     5\n",
              "ARSON                               11    33    31    16\n",
              "ASSEMBLY OR GATHERING VIOLATIONS   236   312   232   131\n",
              "AUTO THEFT                         934  1400  1305   861\n",
              "...                                ...   ...   ...   ...\n",
              "TOWED                             1539  3061  3731  2405\n",
              "VANDALISM                         2662  4845  4647  2691\n",
              "VERBAL DISPUTES                   1502  4044  4387  3014\n",
              "VIOLATIONS                        1215  1528  1295   963\n",
              "WARRANT ARRESTS                   1224  2524  2721  1040\n",
              "\n",
              "[66 rows x 4 columns]"
            ]
          },
          "metadata": {
            "tags": []
          },
          "execution_count": 48
        }
      ]
    },
    {
      "cell_type": "code",
      "metadata": {
        "colab": {
          "base_uri": "https://localhost:8080/",
          "height": 164
        },
        "id": "7ekLEL-4XC8b",
        "outputId": "418367d4-118a-4a9b-c3c4-adb8a085a077"
      },
      "source": [
        "table[0:15,:]"
      ],
      "execution_count": null,
      "outputs": [
        {
          "output_type": "error",
          "ename": "NameError",
          "evalue": "ignored",
          "traceback": [
            "\u001b[0;31m---------------------------------------------------------------------------\u001b[0m",
            "\u001b[0;31mNameError\u001b[0m                                 Traceback (most recent call last)",
            "\u001b[0;32m<ipython-input-1-225a786384ea>\u001b[0m in \u001b[0;36m<module>\u001b[0;34m()\u001b[0m\n\u001b[0;32m----> 1\u001b[0;31m \u001b[0mtable\u001b[0m\u001b[0;34m[\u001b[0m\u001b[0;36m0\u001b[0m\u001b[0;34m:\u001b[0m\u001b[0;36m15\u001b[0m\u001b[0;34m,\u001b[0m\u001b[0;34m:\u001b[0m\u001b[0;34m]\u001b[0m\u001b[0;34m\u001b[0m\u001b[0;34m\u001b[0m\u001b[0m\n\u001b[0m",
            "\u001b[0;31mNameError\u001b[0m: name 'table' is not defined"
          ]
        }
      ]
    },
    {
      "cell_type": "markdown",
      "metadata": {
        "id": "O22SkcSSsKu6"
      },
      "source": [
        "# **3. MACHINE LEARNING**"
      ]
    },
    {
      "cell_type": "markdown",
      "metadata": {
        "id": "U5F-GFwssPSM"
      },
      "source": [
        "USE A MACHINE LEARNING TOOL TO MAKE PREDICTIONS"
      ]
    },
    {
      "cell_type": "code",
      "metadata": {
        "id": "o4ORbU8zsPr3"
      },
      "source": [
        "# import statements\n",
        "import os\n",
        "import pandas as pd\n",
        "import numpy as np\n",
        "import matplotlib.pyplot as plt\n",
        "from sklearn.tree import DecisionTreeClassifier\n",
        "from sklearn import metrics\n",
        "from sklearn.metrics import roc_auc_score, accuracy_score, confusion_matrix"
      ],
      "execution_count": null,
      "outputs": []
    },
    {
      "cell_type": "code",
      "metadata": {
        "id": "9pWJtINIYq5h"
      },
      "source": [
        "# create train validation and test data\n",
        "X_train_v=Data_preprocessed_full_v.iloc[indices_train,]\n",
        "X_test_v=Data_preprocessed_full_v.iloc[indices_test,]\n",
        "X_val_v=Data_preprocessed_full_v.iloc[indices_val,]\n",
        "\n",
        "X_train_d=Data_preprocessed_full_d.iloc[indices_train,]\n",
        "X_test_d=Data_preprocessed_full_d.iloc[indices_test,]\n",
        "X_val_d=Data_preprocessed_full_d.iloc[indices_val,]\n",
        "\n",
        "X_train_a=Data_preprocessed_full_a.iloc[indices_train,]\n",
        "X_test_a=Data_preprocessed_full_a.iloc[indices_test,]\n",
        "X_val_a=Data_preprocessed_full_a.iloc[indices_val,]\n",
        "\n",
        "X_train_m=Data_preprocessed_full_m.iloc[indices_train,]\n",
        "X_test_m=Data_preprocessed_full_m.iloc[indices_test,]\n",
        "X_val_m=Data_preprocessed_full_m.iloc[indices_val,]\n",
        "\n",
        "Y_assault_train=assault_.iloc[indices_train,]\n",
        "Y_assault_test=assault_.iloc[indices_test,]\n",
        "Y_assault_val=assault_.iloc[indices_val,]\n",
        "\n",
        "Y_drugs_train=drugs_.iloc[indices_train,]\n",
        "Y_drugs_test=drugs_.iloc[indices_test,]\n",
        "Y_drugs_val=drugs_.iloc[indices_val,]\n",
        "\n",
        "Y_motor_train=motor_.iloc[indices_train,]\n",
        "Y_motor_test=motor_.iloc[indices_test,]\n",
        "Y_motor_val=motor_.iloc[indices_val,]\n",
        "\n",
        "Y_vandalism_train=vandalism_.iloc[indices_train,]\n",
        "Y_vandalism_test=vandalism_.iloc[indices_test,]\n",
        "Y_vandalism_val=vandalism_.iloc[indices_val,]"
      ],
      "execution_count": null,
      "outputs": []
    },
    {
      "cell_type": "code",
      "metadata": {
        "id": "o1d07v4AXx-Y",
        "colab": {
          "base_uri": "https://localhost:8080/"
        },
        "outputId": "acf242d9-455b-4c14-db18-6ca1739a6f39"
      },
      "source": [
        "# vandalism: find optimal min instances per leaf\n",
        "from sklearn import tree\n",
        "\n",
        "# AUC values on the validation set are saved in the auc_val list\n",
        "auc_val=[] # list initialization \n",
        "N=np.arange(1,10000,10) \n",
        "for n in N:\n",
        "   clf = tree.DecisionTreeClassifier(min_samples_leaf = n, criterion='entropy')\n",
        "   clf.fit(X_train_v, np.ravel(Y_vandalism_train))\n",
        "   probs_val=clf.predict_proba(X_val_v)[:,1]\n",
        "   auc_val.append(roc_auc_score(Y_vandalism_val, probs_val))\n",
        "    \n",
        "print(\"Grid search ended\")\n",
        "index_maximal_auc=np.argmax(auc_val)\n",
        "n_optimal=N[index_maximal_auc]\n",
        "\n",
        "print(\"The optimal value samples at a leaf node is %i\" %n_optimal) #1"
      ],
      "execution_count": null,
      "outputs": [
        {
          "output_type": "stream",
          "text": [
            "Grid search ended\n",
            "The optimal value samples at a leaf node is 1\n"
          ],
          "name": "stdout"
        }
      ]
    },
    {
      "cell_type": "code",
      "metadata": {
        "id": "XbYg3FmtlNBq",
        "colab": {
          "base_uri": "https://localhost:8080/"
        },
        "outputId": "3a11f83f-a68d-45b7-e728-8ded2f938f86"
      },
      "source": [
        "# drugs: find optimal min instances per leaf\n",
        "from sklearn import tree\n",
        "\n",
        "# AUC values on the validation set are saved in the auc_val list\n",
        "auc_val=[] # list initialization \n",
        "N=np.arange(1,10000,10) \n",
        "for n in N:\n",
        "   clf = tree.DecisionTreeClassifier(min_samples_leaf = n, criterion='entropy')\n",
        "   clf.fit(X_train_v, np.ravel(Y_drugs_train))\n",
        "   probs_val=clf.predict_proba(X_val_d)[:,1]\n",
        "   auc_val.append(roc_auc_score(Y_drugs_val, probs_val))\n",
        "    \n",
        "print(\"Grid search ended\")\n",
        "index_maximal_auc=np.argmax(auc_val)\n",
        "n_optimal=N[index_maximal_auc]\n",
        "\n",
        "print(\"The optimal value samples at a leaf node is %i\" %n_optimal) #1"
      ],
      "execution_count": null,
      "outputs": [
        {
          "output_type": "stream",
          "text": [
            "Grid search ended\n",
            "The optimal value samples at a leaf node is 1\n"
          ],
          "name": "stdout"
        }
      ]
    },
    {
      "cell_type": "code",
      "metadata": {
        "id": "WPvkSiN_lWq3",
        "colab": {
          "base_uri": "https://localhost:8080/"
        },
        "outputId": "2950ef6c-9c1d-4668-d9e2-cab69cde02ce"
      },
      "source": [
        "# assault: find optimal min instances per leaf\n",
        "from sklearn import tree\n",
        "\n",
        "# AUC values on the validation set are saved in the auc_val list\n",
        "auc_val=[] # list initialization \n",
        "N=np.arange(1,10000,10) \n",
        "for n in N:\n",
        "   clf = tree.DecisionTreeClassifier(min_samples_leaf = n, criterion='entropy')\n",
        "   clf.fit(X_train_v, np.ravel(Y_assault_train))\n",
        "   probs_val=clf.predict_proba(X_val_a)[:,1]\n",
        "   auc_val.append(roc_auc_score(Y_assault_val, probs_val))\n",
        "    \n",
        "print(\"Grid search ended\")\n",
        "index_maximal_auc=np.argmax(auc_val)\n",
        "n_optimal=N[index_maximal_auc]\n",
        "\n",
        "print(\"The optimal value samples at a leaf node is %i\" %n_optimal) #71"
      ],
      "execution_count": null,
      "outputs": [
        {
          "output_type": "stream",
          "text": [
            "Grid search ended\n",
            "The optimal value samples at a leaf node is 71\n"
          ],
          "name": "stdout"
        }
      ]
    },
    {
      "cell_type": "code",
      "metadata": {
        "id": "REVmlK7ulfp7",
        "colab": {
          "base_uri": "https://localhost:8080/"
        },
        "outputId": "19090153-9ac6-4a76-e490-153abfb44d2a"
      },
      "source": [
        "# motor: find optimal min instances per leaf\n",
        "from sklearn import tree\n",
        "\n",
        "# AUC values on the validation set are saved in the auc_val list\n",
        "auc_val=[] # list initialization \n",
        "N=np.arange(1,10000,10) \n",
        "for n in N:\n",
        "   clf = tree.DecisionTreeClassifier(min_samples_leaf = n, criterion='entropy')\n",
        "   clf.fit(X_train_v, np.ravel(Y_motor_train))\n",
        "   probs_val=clf.predict_proba(X_val_m)[:,1]\n",
        "   auc_val.append(roc_auc_score(Y_motor_val, probs_val))\n",
        "    \n",
        "print(\"Grid search ended\")\n",
        "index_maximal_auc=np.argmax(auc_val)\n",
        "n_optimal=N[index_maximal_auc]\n",
        "\n",
        "print(\"The optimal value samples at a leaf node is %i\" %n_optimal) #71"
      ],
      "execution_count": null,
      "outputs": [
        {
          "output_type": "stream",
          "text": [
            "Grid search ended\n",
            "The optimal value samples at a leaf node is 71\n"
          ],
          "name": "stdout"
        }
      ]
    },
    {
      "cell_type": "code",
      "metadata": {
        "id": "OU2cjL-VXnRS",
        "colab": {
          "base_uri": "https://localhost:8080/",
          "height": 367
        },
        "outputId": "fb7dd005-9633-4ab2-9148-0d59782ff570"
      },
      "source": [
        "# decision tree for vandalism\n",
        "from sklearn import tree\n",
        "clf_v = tree.DecisionTreeClassifier(min_samples_leaf = 1, criterion='entropy')\n",
        "clf_v.fit(X_train_v, np.ravel(Y_vandalism_train))\n",
        "\n",
        "#visualize tree\n",
        "tree.plot_tree(clf_v)"
      ],
      "execution_count": null,
      "outputs": [
        {
          "output_type": "execute_result",
          "data": {
            "text/plain": [
              "[Text(111.60000000000001, 190.26, 'X[23] <= 0.5\\nentropy = 0.482\\nsamples = 6400\\nvalue = [5734, 666]'),\n",
              " Text(55.800000000000004, 135.9, 'entropy = 0.0\\nsamples = 597\\nvalue = [0, 597]'),\n",
              " Text(167.4, 135.9, 'X[26] <= 0.5\\nentropy = 0.093\\nsamples = 5803\\nvalue = [5734, 69]'),\n",
              " Text(111.60000000000001, 81.53999999999999, 'entropy = 0.0\\nsamples = 61\\nvalue = [0, 61]'),\n",
              " Text(223.20000000000002, 81.53999999999999, 'X[2] <= 0.5\\nentropy = 0.015\\nsamples = 5742\\nvalue = [5734, 8]'),\n",
              " Text(167.4, 27.180000000000007, 'entropy = 0.0\\nsamples = 8\\nvalue = [0, 8]'),\n",
              " Text(279.0, 27.180000000000007, 'entropy = 0.0\\nsamples = 5734\\nvalue = [5734, 0]')]"
            ]
          },
          "metadata": {
            "tags": []
          },
          "execution_count": 55
        },
        {
          "output_type": "display_data",
          "data": {
            "image/png": "[encoded data removed]",
            "text/plain": [
              "<Figure size 432x288 with 1 Axes>"
            ]
          },
          "metadata": {
            "tags": [],
            "needs_background": "light"
          }
        }
      ]
    },
    {
      "cell_type": "code",
      "metadata": {
        "id": "JygrwQFSn95H",
        "colab": {
          "base_uri": "https://localhost:8080/",
          "height": 367
        },
        "outputId": "3a9328bd-da5c-4cde-d0a4-065141e9715c"
      },
      "source": [
        "# decision tree for drugs\n",
        "from sklearn import tree\n",
        "clf_d = tree.DecisionTreeClassifier(min_samples_leaf = 1, criterion='entropy')\n",
        "clf_d.fit(X_train_d, np.ravel(Y_drugs_train))\n",
        "\n",
        "#visualize tree\n",
        "tree.plot_tree(clf_d)"
      ],
      "execution_count": null,
      "outputs": [
        {
          "output_type": "execute_result",
          "data": {
            "text/plain": [
              "[Text(111.60000000000001, 190.26, 'X[22] <= 0.5\\nentropy = 0.482\\nsamples = 6400\\nvalue = [5734, 666]'),\n",
              " Text(55.800000000000004, 135.9, 'entropy = 0.0\\nsamples = 589\\nvalue = [0, 589]'),\n",
              " Text(167.4, 135.9, 'X[4] <= 0.5\\nentropy = 0.102\\nsamples = 5811\\nvalue = [5734, 77]'),\n",
              " Text(111.60000000000001, 81.53999999999999, 'entropy = 0.0\\nsamples = 68\\nvalue = [0, 68]'),\n",
              " Text(223.20000000000002, 81.53999999999999, 'X[13] <= 0.5\\nentropy = 0.017\\nsamples = 5743\\nvalue = [5734, 9]'),\n",
              " Text(167.4, 27.180000000000007, 'entropy = 0.0\\nsamples = 9\\nvalue = [0, 9]'),\n",
              " Text(279.0, 27.180000000000007, 'entropy = 0.0\\nsamples = 5734\\nvalue = [5734, 0]')]"
            ]
          },
          "metadata": {
            "tags": []
          },
          "execution_count": 56
        },
        {
          "output_type": "display_data",
          "data": {
            "image/png": "[encoded data removed]",
            "text/plain": [
              "<Figure size 432x288 with 1 Axes>"
            ]
          },
          "metadata": {
            "tags": [],
            "needs_background": "light"
          }
        }
      ]
    },
    {
      "cell_type": "code",
      "metadata": {
        "id": "2cDuZf_yoQLN",
        "colab": {
          "base_uri": "https://localhost:8080/",
          "height": 299
        },
        "outputId": "cb48941e-033d-401f-d346-13c62f3f387a"
      },
      "source": [
        "# decision tree for assault\n",
        "from sklearn import tree\n",
        "clf_a = tree.DecisionTreeClassifier(min_samples_leaf = 71, criterion='entropy')\n",
        "clf_a.fit(X_train_a, np.ravel(Y_assault_train))\n",
        "\n",
        "#visualize tree\n",
        "tree.plot_tree(clf_a)"
      ],
      "execution_count": null,
      "outputs": [
        {
          "output_type": "execute_result",
          "data": {
            "text/plain": [
              "[Text(167.4, 163.07999999999998, 'X[23] <= 0.5\\nentropy = 0.482\\nsamples = 6400\\nvalue = [5734, 666]'),\n",
              " Text(83.7, 54.360000000000014, 'entropy = 0.0\\nsamples = 597\\nvalue = [0, 597]'),\n",
              " Text(251.10000000000002, 54.360000000000014, 'entropy = 0.093\\nsamples = 5803\\nvalue = [5734, 69]')]"
            ]
          },
          "metadata": {
            "tags": []
          },
          "execution_count": 58
        },
        {
          "output_type": "display_data",
          "data": {
            "image/png": "[encoded data removed]",
            "text/plain": [
              "<Figure size 432x288 with 1 Axes>"
            ]
          },
          "metadata": {
            "tags": [],
            "needs_background": "light"
          }
        }
      ]
    },
    {
      "cell_type": "code",
      "metadata": {
        "id": "FmChjOd3oc_K",
        "colab": {
          "base_uri": "https://localhost:8080/",
          "height": 299
        },
        "outputId": "30ed9d1d-0711-4b8e-abd9-c0596936d964"
      },
      "source": [
        "# decision tree for motor \n",
        "from sklearn import tree\n",
        "clf_m = tree.DecisionTreeClassifier(min_samples_leaf = 71, criterion='entropy')\n",
        "clf_m.fit(X_train_m, np.ravel(Y_motor_train))\n",
        "\n",
        "#visualize tree\n",
        "tree.plot_tree(clf_m)"
      ],
      "execution_count": null,
      "outputs": [
        {
          "output_type": "execute_result",
          "data": {
            "text/plain": [
              "[Text(167.4, 163.07999999999998, 'X[23] <= 0.5\\nentropy = 0.482\\nsamples = 6400\\nvalue = [5734, 666]'),\n",
              " Text(83.7, 54.360000000000014, 'entropy = 0.0\\nsamples = 602\\nvalue = [0, 602]'),\n",
              " Text(251.10000000000002, 54.360000000000014, 'entropy = 0.088\\nsamples = 5798\\nvalue = [5734, 64]')]"
            ]
          },
          "metadata": {
            "tags": []
          },
          "execution_count": 59
        },
        {
          "output_type": "display_data",
          "data": {
            "image/png": "[encoded data removed]",
            "text/plain": [
              "<Figure size 432x288 with 1 Axes>"
            ]
          },
          "metadata": {
            "tags": [],
            "needs_background": "light"
          }
        }
      ]
    },
    {
      "cell_type": "code",
      "metadata": {
        "id": "LL79r6JWjZON",
        "colab": {
          "base_uri": "https://localhost:8080/"
        },
        "outputId": "6a778cb9-d304-414d-c413-6ddd5536b6f4"
      },
      "source": [
        "# vandalism: make predictions on test set\n",
        "y_test_labels_v = clf_v.predict(X_test_v)\n",
        "y_test_scores_v = clf_v.predict_proba(X_test_v)[:,1]\n",
        "\n",
        "# accuracy on test data\n",
        "accuracy_test_v = accuracy_score(Y_vandalism_test,y_test_labels_v)\n",
        "accuracy_test_v"
      ],
      "execution_count": null,
      "outputs": [
        {
          "output_type": "execute_result",
          "data": {
            "text/plain": [
              "1.0"
            ]
          },
          "metadata": {
            "tags": []
          },
          "execution_count": 60
        }
      ]
    },
    {
      "cell_type": "code",
      "metadata": {
        "id": "tOc8etKjjoaw",
        "colab": {
          "base_uri": "https://localhost:8080/"
        },
        "outputId": "4a11475a-cdbc-4a40-a4a0-9e3e0ece226a"
      },
      "source": [
        "# confusion matrix vandalism\n",
        "cf = confusion_matrix(Y_vandalism_test, y_test_labels_v)\n",
        "cf"
      ],
      "execution_count": null,
      "outputs": [
        {
          "output_type": "execute_result",
          "data": {
            "text/plain": [
              "array([[1820,    0],\n",
              "       [   0,  180]])"
            ]
          },
          "metadata": {
            "tags": []
          },
          "execution_count": 61
        }
      ]
    },
    {
      "cell_type": "code",
      "metadata": {
        "id": "oJ_sxWG2uEyK",
        "colab": {
          "base_uri": "https://localhost:8080/"
        },
        "outputId": "27b77738-a926-41f4-f531-ffc533206d94"
      },
      "source": [
        "# drugs: make predictions on test set\n",
        "y_test_labels_d = clf_d.predict(X_test_d)\n",
        "y_test_scores_d = clf_d.predict_proba(X_test_d)[:,1]\n",
        "\n",
        "# accuracy and AUC on test data\n",
        "accuracy_test_d = accuracy_score(Y_drugs_test,y_test_labels_d)\n",
        "accuracy_test_d"
      ],
      "execution_count": null,
      "outputs": [
        {
          "output_type": "execute_result",
          "data": {
            "text/plain": [
              "0.9995"
            ]
          },
          "metadata": {
            "tags": []
          },
          "execution_count": 65
        }
      ]
    },
    {
      "cell_type": "code",
      "metadata": {
        "colab": {
          "base_uri": "https://localhost:8080/"
        },
        "id": "8tA9Uwf3vFEd",
        "outputId": "1e0213fe-4f17-4086-ac03-c8dfbaaff819"
      },
      "source": [
        "# confusion matrix drugs\n",
        "cf_d = confusion_matrix(Y_drugs_test, y_test_labels_d)\n",
        "cf_d"
      ],
      "execution_count": null,
      "outputs": [
        {
          "output_type": "execute_result",
          "data": {
            "text/plain": [
              "array([[1820,    0],\n",
              "       [   1,  179]])"
            ]
          },
          "metadata": {
            "tags": []
          },
          "execution_count": 63
        }
      ]
    },
    {
      "cell_type": "code",
      "metadata": {
        "id": "3jCZRPBguVge",
        "colab": {
          "base_uri": "https://localhost:8080/"
        },
        "outputId": "6c2f94b8-1920-4a58-8196-3082269abfd3"
      },
      "source": [
        "# assault: make predictions on test set\n",
        "y_test_labels_a = clf_a.predict(X_test_a)\n",
        "y_test_scores_a = clf_a.predict_proba(X_test_a)[:,1]\n",
        "\n",
        "# accuracy and AUC on test data\n",
        "accuracy_test_a = accuracy_score(Y_assault_test,y_test_labels_a)\n",
        "accuracy_test_a"
      ],
      "execution_count": null,
      "outputs": [
        {
          "output_type": "execute_result",
          "data": {
            "text/plain": [
              "0.9915"
            ]
          },
          "metadata": {
            "tags": []
          },
          "execution_count": 64
        }
      ]
    },
    {
      "cell_type": "code",
      "metadata": {
        "colab": {
          "base_uri": "https://localhost:8080/"
        },
        "id": "AbL7XbORvgkM",
        "outputId": "e9887abb-4ed0-42dc-de55-5518f8191336"
      },
      "source": [
        "# confusion matrix assault\n",
        "cf_a = confusion_matrix(Y_assault_test, y_test_labels_a)\n",
        "cf_a"
      ],
      "execution_count": null,
      "outputs": [
        {
          "output_type": "execute_result",
          "data": {
            "text/plain": [
              "array([[1820,    0],\n",
              "       [  17,  163]])"
            ]
          },
          "metadata": {
            "tags": []
          },
          "execution_count": 66
        }
      ]
    },
    {
      "cell_type": "code",
      "metadata": {
        "id": "BdgRccyeusvr",
        "colab": {
          "base_uri": "https://localhost:8080/"
        },
        "outputId": "16d7c468-fb0a-4337-9e53-40f4d9819de1"
      },
      "source": [
        "# motor: make predictions on test set\n",
        "y_test_labels_m = clf_a.predict(X_test_m)\n",
        "y_test_scores_m = clf_a.predict_proba(X_test_m)[:,1]\n",
        "\n",
        "# accuracy and AUC on test data\n",
        "accuracy_test_m = accuracy_score(Y_motor_test,y_test_labels_m)\n",
        "accuracy_test_m"
      ],
      "execution_count": null,
      "outputs": [
        {
          "output_type": "execute_result",
          "data": {
            "text/plain": [
              "0.993"
            ]
          },
          "metadata": {
            "tags": []
          },
          "execution_count": 67
        }
      ]
    },
    {
      "cell_type": "code",
      "metadata": {
        "id": "pbXflf9dvkhd",
        "colab": {
          "base_uri": "https://localhost:8080/"
        },
        "outputId": "e0770a06-a4a5-4bdb-fb41-f3fe45332182"
      },
      "source": [
        "# confusion matrix motor\n",
        "cf_m = confusion_matrix(Y_motor_test, y_test_labels_m)\n",
        "cf_m"
      ],
      "execution_count": null,
      "outputs": [
        {
          "output_type": "execute_result",
          "data": {
            "text/plain": [
              "array([[1820,    0],\n",
              "       [  14,  166]])"
            ]
          },
          "metadata": {
            "tags": []
          },
          "execution_count": 68
        }
      ]
    }
  ]
}